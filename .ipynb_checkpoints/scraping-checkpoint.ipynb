{
 "cells": [
  {
   "cell_type": "code",
   "execution_count": 2,
   "id": "b5e2cc43-592c-4326-a94e-e8b0a49eb33b",
   "metadata": {},
   "outputs": [],
   "source": [
    "!pip install -q lxml"
   ]
  },
  {
   "cell_type": "code",
   "execution_count": 32,
   "id": "ef2b6e7a-0792-4208-982e-ceac6e997dab",
   "metadata": {},
   "outputs": [],
   "source": [
    "import bs4\n",
    "import lxml\n",
    "import pandas as pd\n",
    "import urllib\n",
    "import numpy"
   ]
  },
  {
   "cell_type": "code",
   "execution_count": 7,
   "id": "e634ba46-4561-4756-a559-182aa11ee602",
   "metadata": {},
   "outputs": [],
   "source": [
    "from urllib import request"
   ]
  },
  {
   "cell_type": "code",
   "execution_count": 119,
   "id": "051fa41d-4ebc-4b18-85a6-486d550cc5d4",
   "metadata": {},
   "outputs": [],
   "source": [
    "def firefoxPage(link):\n",
    "    req = request.Request(\n",
    "        url=link, \n",
    "        headers={'User-Agent': 'Mozilla/5.0'} # IMPORTANT (sinon connection refusee)\n",
    "    )\n",
    "    html_page = request.urlopen(req)\n",
    "    return html_page"
   ]
  },
  {
   "cell_type": "markdown",
   "id": "b12e38af-fe8a-4905-ab44-a42b6fff07dc",
   "metadata": {},
   "source": [
    "### Obtenir les liens de tous les joueurs en LCK summer 2023"
   ]
  },
  {
   "cell_type": "code",
   "execution_count": 180,
   "id": "3ded3027-a534-4dc0-9c1e-d1a5f828f279",
   "metadata": {},
   "outputs": [],
   "source": [
    "from bs4 import BeautifulSoup\n",
    "\n",
    "html_page = firefoxPage('https://gol.gg/players/list/season-ALL/split-ALL/tournament-LCK%20Summer%202023/')\n",
    "soup = BeautifulSoup(html_page, features=\"lxml\")\n",
    "player_link_list = []\n",
    "for link in soup.find_all('a'):\n",
    "    if str(link.get('href')).startswith(\"./player-stats/\"):\n",
    "        player_link_list.append(str(link.get('href')).strip('.'))"
   ]
  },
  {
   "cell_type": "markdown",
   "id": "6d19e72c-36fb-4498-b35f-07b9a2f80d1e",
   "metadata": {},
   "source": [
    "### Obtenir les stats des joueurs"
   ]
  },
  {
   "cell_type": "code",
   "execution_count": 181,
   "id": "87fa5ea4-c832-4968-96d0-e1ff5ae559a0",
   "metadata": {},
   "outputs": [],
   "source": [
    "def checkCols(cols):\n",
    "    if cols == None:\n",
    "        return False\n",
    "    for k in cols:\n",
    "        if k != '':\n",
    "            return True\n",
    "    return False\n",
    "\n",
    "data = []\n",
    "columnNames = ['Player']\n",
    "generateCol = True\n",
    "for link in player_link_list:\n",
    "    link = link.strip()\n",
    "    html = firefoxPage(\"https://gol.gg/players\" + link)\n",
    "    soup = BeautifulSoup(html, features=\"lxml\")\n",
    "\n",
    "    table = soup.find(\"table\", attrs={\"class\": \"table_list\"})\n",
    "    name = soup.find(\"h1\").text.strip()\n",
    "    playerStat = [name]\n",
    "\n",
    "    rows = table.find_all('tr')\n",
    "    if columnNames != ['Player']:\n",
    "        generateCol = False\n",
    "    for row in rows:\n",
    "\n",
    "        cols = row.find_all('td')\n",
    "        cols = [ele.text.strip() for ele in cols]\n",
    "\n",
    "        if checkCols(cols):\n",
    "            if generateCol:\n",
    "                columnNames.append(cols[0])\n",
    "            playerStat = playerStat + [elem for elem in cols[1:] if elem != '']\n",
    "    data.append(playerStat)\n",
    "\n",
    "df = pd.DataFrame(data, columns=columnNames)"
   ]
  },
  {
   "cell_type": "code",
   "execution_count": 182,
   "id": "ca3eb603-51cb-43cf-9abe-04dadf2ac362",
   "metadata": {},
   "outputs": [
    {
     "name": "stdout",
     "output_type": "stream",
     "text": [
      "      Player    Record: Win Rate: KDA: CS per Minute: Gold Per Minute: Gold%:  \\\n",
      "0     Aiming   34W - 6L       85%  9.1           10.5              508    26%   \n",
      "1      Andil   2W - 18L       10%  1.3            1.1              215  12.7%   \n",
      "2        Bdd   34W - 6L       85%  7.2            8.8              417  21.3%   \n",
      "3      BeryL  16W - 27L     37.2%  2.1            1.3              232  13.5%   \n",
      "4      Bible    8W - 5L     61.5%  2.8            1.1              238  12.9%   \n",
      "..       ...        ...       ...  ...            ...              ...    ...   \n",
      "61    Willer  13W - 27L     32.5%  3.0            5.6              330  18.6%   \n",
      "62  YoungJae  10W - 28L     26.3%  2.6            5.7              321  18.4%   \n",
      "63      Zeka  27W - 14L     65.9%  5.2            9.4              436    23%   \n",
      "64      Zeus  21W - 21L       50%  3.0            8.4              388  20.9%   \n",
      "65    kingen  27W - 14L     65.9%  3.7            8.4              391  20.7%   \n",
      "\n",
      "   Kill Participation:  \n",
      "0                75.2%  \n",
      "1                64.9%  \n",
      "2                69.9%  \n",
      "3                68.2%  \n",
      "4                67.1%  \n",
      "..                 ...  \n",
      "61               70.7%  \n",
      "62               73.5%  \n",
      "63               67.5%  \n",
      "64                 61%  \n",
      "65               53.8%  \n",
      "\n",
      "[66 rows x 8 columns]\n"
     ]
    }
   ],
   "source": [
    "print(df)"
   ]
  },
  {
   "cell_type": "markdown",
   "id": "ca168254-bd39-45aa-8ee9-a3060aac3cae",
   "metadata": {},
   "source": [
    "### Obtenir les liens de tous les equipes"
   ]
  },
  {
   "cell_type": "code",
   "execution_count": 135,
   "id": "b26ac01c-0d2f-4f93-a520-5ff540c555f6",
   "metadata": {},
   "outputs": [],
   "source": [
    "from bs4 import BeautifulSoup\n",
    "\n",
    "html_page = firefoxPage('https://gol.gg/teams/list/season-S13/split-Summer/tournament-LCK%20Summer%202023/')\n",
    "soup = BeautifulSoup(html_page, features=\"lxml\")\n",
    "team_link_list = []\n",
    "for link in soup.find_all('a'):\n",
    "    if str(link.get('href')).startswith(\"./team-stats/\"):\n",
    "        team_link_list.append(str(link.get('href')).strip('.').replace('LCK Summer 2023/', 'LCK%20Summer%202023/'))"
   ]
  },
  {
   "cell_type": "markdown",
   "id": "fb32315b-0ad2-4260-a18b-2ac391bdedf2",
   "metadata": {},
   "source": [
    "### Obtenir les roles des joueurs"
   ]
  },
  {
   "cell_type": "code",
   "execution_count": null,
   "id": "c6d6bfad-e535-4330-ab5d-fb4fd8a09fd5",
   "metadata": {},
   "outputs": [],
   "source": [
    "BRION player's stats"
   ]
  },
  {
   "cell_type": "code",
   "execution_count": 175,
   "id": "9282d946-1776-4f9d-bee5-09f66ecb3bf3",
   "metadata": {},
   "outputs": [],
   "source": [
    "labels = ['Team','Role', 'Player']\n",
    "data = []\n",
    "\n",
    "def get_player_table(soup, team_name):\n",
    "    tables = soup.find_all('table')\n",
    "    for table in tables:\n",
    "        caption = table.find('caption')\n",
    "        if caption and caption.text.strip() == team_name + ' player\\'s stats':\n",
    "            return table\n",
    "        else:\n",
    "            continue\n",
    "    return None\n",
    "\n",
    "for link in team_link_list:\n",
    "    link = link.strip()\n",
    "    html = firefoxPage(\"https://gol.gg/teams\" + link)\n",
    "    soup = BeautifulSoup(html, features=\"lxml\")\n",
    "\n",
    "    table = soup.find(\"table\", attrs={\"class\": \"table_list\"})\n",
    "    name = soup.find(\"h1\").text.strip()\n",
    "    rows = get_player_table(soup, name).find_all('tr')\n",
    "    \n",
    "    for row in rows:\n",
    "        tds = row.find_all('td')\n",
    "        if len(tds) >= 2:\n",
    "            stat = [name]\n",
    "            stat.append(tds[0].text.strip())\n",
    "            stat.append(tds[1].text.strip())\n",
    "            data.append(stat)\n",
    "    \n",
    "\n",
    "dfrole = pd.DataFrame(data, columns=labels)"
   ]
  },
  {
   "cell_type": "code",
   "execution_count": 176,
   "id": "1d9fd6aa-6e9b-477c-8c53-2593654dc00a",
   "metadata": {},
   "outputs": [
    {
     "name": "stdout",
     "output_type": "stream",
     "text": [
      "     Team     Role    Player\n",
      "0   BRION      TOP    Morgan\n",
      "1   BRION   JUNGLE      UmTi\n",
      "2   BRION      MID     Karis\n",
      "3   BRION      BOT      Hena\n",
      "4   BRION  SUPPORT    Effort\n",
      "..    ...      ...       ...\n",
      "61     T1   JUNGLE      Oner\n",
      "62     T1      MID     Faker\n",
      "63     T1      BOT  Gumayusi\n",
      "64     T1  SUPPORT     Keria\n",
      "65     T1      MID      Poby\n",
      "\n",
      "[66 rows x 3 columns]\n"
     ]
    }
   ],
   "source": [
    "print(dfrole)"
   ]
  },
  {
   "cell_type": "markdown",
   "id": "031cb45e-cc84-4d65-8967-37bda30444ed",
   "metadata": {},
   "source": [
    "### Stats finaux joueurs"
   ]
  },
  {
   "cell_type": "code",
   "execution_count": 183,
   "id": "078cf2aa-db77-4fc9-8dcf-e6c5a7edc856",
   "metadata": {},
   "outputs": [],
   "source": [
    "players = pd.merge(dfrole, df)"
   ]
  },
  {
   "cell_type": "code",
   "execution_count": 184,
   "id": "9f275f3c-7c0c-4dd8-9160-396f8113d6cc",
   "metadata": {},
   "outputs": [
    {
     "name": "stdout",
     "output_type": "stream",
     "text": [
      "     Team     Role    Player    Record: Win Rate: KDA: CS per Minute:  \\\n",
      "0   BRION      TOP    Morgan  15W - 30L     33.3%  2.1            8.9   \n",
      "1   BRION   JUNGLE      UmTi  15W - 30L     33.3%  2.9            5.4   \n",
      "2   BRION      MID     Karis  12W - 23L     34.3%  3.5            9.2   \n",
      "3   BRION      BOT      Hena  15W - 30L     33.3%  3.3             10   \n",
      "4   BRION  SUPPORT    Effort  15W - 30L     33.3%  2.6              1   \n",
      "..    ...      ...       ...        ...       ...  ...            ...   \n",
      "61     T1   JUNGLE      Oner  21W - 21L       50%  3.5            5.6   \n",
      "62     T1      MID     Faker   17W - 7L     70.8%  3.4            8.8   \n",
      "63     T1      BOT  Gumayusi  21W - 21L       50%  4.6           10.7   \n",
      "64     T1  SUPPORT     Keria  21W - 21L       50%  3.6            1.1   \n",
      "65     T1      MID      Poby   4W - 14L     22.2%  1.6              9   \n",
      "\n",
      "   Gold Per Minute: Gold%: Kill Participation:  \n",
      "0               390  22.3%                 52%  \n",
      "1               317  18.1%                 76%  \n",
      "2               398  22.6%               69.8%  \n",
      "3               425  24.4%               68.9%  \n",
      "4               226  12.9%               71.8%  \n",
      "..              ...    ...                 ...  \n",
      "61              348  18.7%               77.1%  \n",
      "62              420  21.6%               63.3%  \n",
      "63              475  25.5%               73.5%  \n",
      "64              244  13.1%                 71%  \n",
      "65              390  22.2%               64.5%  \n",
      "\n",
      "[66 rows x 10 columns]\n"
     ]
    }
   ],
   "source": [
    "print(players)"
   ]
  },
  {
   "cell_type": "markdown",
   "id": "d567e016-f12f-4203-bb02-ac07784985e3",
   "metadata": {},
   "source": [
    "### Obtenir stats equipes"
   ]
  },
  {
   "cell_type": "code",
   "execution_count": 189,
   "id": "afb3a0ae-0200-4959-ad39-ed5d0091be5b",
   "metadata": {},
   "outputs": [
    {
     "name": "stdout",
     "output_type": "stream",
     "text": [
      "[]\n"
     ]
    }
   ],
   "source": [
    "from bs4 import BeautifulSoup\n",
    "\n",
    "html_page = firefoxPage('https://gol.gg/teams/list/season-S13/split-Summer/tournament-LCK%20Summer%202023/')\n",
    "soup = BeautifulSoup(html_page, features=\"lxml\")\n",
    "\n",
    "labels = ['Team','Role', 'Player']\n",
    "data = []\n",
    "\n",
    "table = soup.find_all('table')[1]\n",
    "rows = table.find_all('tr')\n",
    "\n",
    "label = [elem.text.strip() for elem in table.find('th').find_all('th')]\n",
    "\n",
    "\n",
    "    \n",
    "print(label)"
   ]
  },
  {
   "cell_type": "code",
   "execution_count": null,
   "id": "901ed135-bbdc-40b5-990f-58085c6f50f2",
   "metadata": {},
   "outputs": [],
   "source": []
  }
 ],
 "metadata": {
  "kernelspec": {
   "display_name": "Python 3 (ipykernel)",
   "language": "python",
   "name": "python3"
  },
  "language_info": {
   "codemirror_mode": {
    "name": "ipython",
    "version": 3
   },
   "file_extension": ".py",
   "mimetype": "text/x-python",
   "name": "python",
   "nbconvert_exporter": "python",
   "pygments_lexer": "ipython3",
   "version": "3.11.4"
  }
 },
 "nbformat": 4,
 "nbformat_minor": 5
}
