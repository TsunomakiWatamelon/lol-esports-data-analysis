{
 "cells": [
  {
   "cell_type": "markdown",
   "metadata": {
    "id": "EOr-DwYgRsUa"
   },
   "source": [
    "# Web Scrapping in Python\n",
    "\n",
    "\n",
    "**TODO pour moi avant le TME**\n",
    "\n",
    "1.   Faire la version étudiant en enlevant les réponses. Ne garder qu'un code générique pour la carte qu'ils devront adapter\n",
    "\n",
    "\n",
    "\n",
    "The first objective of this notebook is to discover the `request` and `BeautifulSoup` libraries to crawl a table on a Wikitable page, build a dataframe, and create a map.\n",
    "\n",
    "*   `request` and [urllib](https://docs.python.org/3/library/urllib.html#module-urllib) for requestion REST API\n",
    "*   [BeautifulSoup4](https://www.crummy.com/software/BeautifulSoup/bs4/doc/) to inspect webpages\n",
    "\n",
    "Please note that this part serves as an initiation of web scrapping but you will need to learn by yourself to make the project. It is inspired from notebooks published by Galiana, Lino. 2023. Python Pour La Data Science. https://doi.org/10.5281/zenodo.8229676. Exercices target different sources of information, the code needs to be adapted.\n",
    "\n",
    "\n",
    "\n",
    "\n",
    "\n",
    "\n",
    "\n",
    "\n",
    "\n"
   ]
  },
  {
   "cell_type": "code",
   "execution_count": 57,
   "metadata": {
    "id": "E4zarSeAQdHm"
   },
   "outputs": [],
   "source": [
    "!pip install -q lxml\n",
    "\n",
    "import bs4\n",
    "import lxml\n",
    "import pandas\n",
    "import urllib\n",
    "import numpy\n",
    "\n",
    "from urllib import request"
   ]
  },
  {
   "cell_type": "markdown",
   "metadata": {
    "id": "t4wzROqzT36G"
   },
   "source": [
    "## Exercice 1 : Scrap a table on a wikipedia page\n",
    "\n",
    "We would like to display on a map the location of Summer Olympic Games since 1896. We will use a [Wikipedia page](https://fr.wikipedia.org/wiki/Jeux_olympiques) to scrap the associated table.\n",
    "Below is the code to extract the content of the page using `request` and display its title using `BeautifulSoup`."
   ]
  },
  {
   "cell_type": "code",
   "execution_count": 2,
   "metadata": {
    "colab": {
     "base_uri": "https://localhost:8080/"
    },
    "id": "Nl9QICzwTGG7",
    "outputId": "342c30b0-2ade-4dba-efb2-930fb307bb14"
   },
   "outputs": [
    {
     "name": "stdout",
     "output_type": "stream",
     "text": [
      "b'<!DOCTYPE html>\\n<html class=\"client-nojs vector-feature-language-in-header-enabled vector-feature-language-in-main-page-header-disabled vector-feature-sticky-header-disabled vector-feature-page-tools-pinned-disabled vector-feature-toc-pinned-clientpref-1 vector-feature-main-menu-pinned-disabled vector-feature-limited-width-clientpref-1 vector-feature-limited-width-content-enabled vector-feature-custom-font-size-clientpref-0 vector-feature-client-preferences-disabled vector-feature-client-prefs-pinned-disabled vector-toc-available\" lang=\"fr\" dir=\"ltr\">\\n<head>\\n<meta charset=\"UTF-8\">\\n<title>Jeux olympiques \\xe2\\x80\\x94 Wikip\\xc3\\xa9dia</title>\\n<script>(function(){var className=\"client-js vector-feature-language-in-header-enabled vector-feature-language-in-main-page-header-disabled vector-feature-sticky-header-disabled vector-feature-page-tools-pinned-disabled vector-feature-toc-pinned-clientpref-1 vector-feature-main-menu-pinned-disabled vector-feature-limited-width-clientpref-1 vector-feature-limited-w'\n",
      "<title>Jeux olympiques — Wikipédia</title>\n"
     ]
    }
   ],
   "source": [
    "jo = \"https://fr.wikipedia.org/wiki/Jeux_olympiques\"\n",
    "\n",
    "request_text = request.urlopen(jo).read()\n",
    "print(request_text[:1000])\n",
    "page = bs4.BeautifulSoup(request_text, \"lxml\")\n",
    "print(page.find(\"title\"))"
   ]
  },
  {
   "cell_type": "markdown",
   "metadata": {
    "id": "U_18h3E9UiYR"
   },
   "source": [
    "Our objective here is to extract the different information in the first table \"Jeux olympiques d'été\" and to build a data frame.\n",
    "\n",
    "To proceed, you will have to follow these steps:\n",
    "*   Find the table\n",
    "*   Collect each line of the table\n",
    "*   Retrieve the different columns and transform them into text format. Also, use `strip` to format the value into a proper text format (e.g., without useless spaces). Store these lines (formated as a table of columns) in a table.\n",
    "\n",
    "**Warning: We have two location for 1940. You have therefore to manage this case: identify the attribute indicating this fact and write a code to collect those lines and insert in the previous table in the right place**\n",
    "\n",
    "* Collect headers of the HTML table\n",
    "* Build a data frame from the result table and the headers\n",
    "\n",
    "\n",
    "\n",
    "\n",
    "\n",
    "\n"
   ]
  },
  {
   "cell_type": "code",
   "execution_count": 39,
   "metadata": {},
   "outputs": [],
   "source": []
  },
  {
   "cell_type": "code",
   "execution_count": 53,
   "metadata": {
    "id": "M5oVOOZuKxD_"
   },
   "outputs": [
    {
     "name": "stdout",
     "output_type": "stream",
     "text": [
      "   Année Olympiade(Nº de l’olympiade[NB 1])         Ville hôte  \\\n",
      "0   1896                                  I         Athènes(1)   \n",
      "1   1900                                 II           Paris(1)   \n",
      "2   1904                                III     Saint-Louis(1)   \n",
      "3   1906             •(Intercalaires[NB 2])         Athènes(2)   \n",
      "4   1908                                 IV         Londres(1)   \n",
      "5   1912                                  V       Stockholm(1)   \n",
      "6   1916                  VI(annulés[NB 3])             Berlin   \n",
      "7   1920                                VII          Anvers(1)   \n",
      "8   1924                               VIII           Paris(2)   \n",
      "9   1928                                 IX       Amsterdam(1)   \n",
      "10  1932                                  X     Los Angeles(1)   \n",
      "11  1936                                 XI          Berlin(1)   \n",
      "12  1940                 XII(annulés[NB 4])              Tokyo   \n",
      "13  1940                 XII(annulés[NB 4])           Helsinki   \n",
      "14  1944                XIII(annulés[NB 4])            Londres   \n",
      "15  1948                                XIV         Londres(2)   \n",
      "16  1952                                 XV        Helsinki(1)   \n",
      "17  1956                                XVI       Melbourne(1)   \n",
      "18  1960                               XVII            Rome(1)   \n",
      "19  1964                              XVIII           Tokyo(1)   \n",
      "20  1968                                XIX          Mexico(1)   \n",
      "21  1972                                 XX          Munich(1)   \n",
      "22  1976                                XXI        Montréal(1)   \n",
      "23  1980                               XXII          Moscou(1)   \n",
      "24  1984                              XXIII     Los Angeles(2)   \n",
      "25  1988                               XXIV           Séoul(1)   \n",
      "26  1992                                XXV       Barcelone(1)   \n",
      "27  1996                               XXVI         Atlanta(1)   \n",
      "28  2000                              XXVII          Sydney(1)   \n",
      "29  2004                             XXVIII         Athènes(3)   \n",
      "30  2008                               XXIX           Pékin(1)   \n",
      "31  2012                                XXX         Londres(3)   \n",
      "32  2016                               XXXI  Rio de Janeiro(1)   \n",
      "33  2021                        XXXII[NB 5]           Tokyo(2)   \n",
      "34  2024                             XXXIII           Paris(3)   \n",
      "35  2028                              XXXIV     Los Angeles(3)   \n",
      "36  2032                               XXXV        Brisbane(1)   \n",
      "37  2036                              XXXVI                tbd   \n",
      "\n",
      "                       Pays                Continent  \n",
      "0                  Grèce(1)                 Grèce(1)  \n",
      "1                 France(1)                France(1)  \n",
      "2             États-Unis(1)            États-Unis(1)  \n",
      "3                  Grèce(2)                 Grèce(2)  \n",
      "4            Royaume-Uni(1)           Royaume-Uni(1)  \n",
      "5                  Suède(1)                 Suède(1)  \n",
      "6                 Allemagne                Allemagne  \n",
      "7               Belgique(1)              Belgique(1)  \n",
      "8                 France(2)                France(2)  \n",
      "9               Pays-Bas(1)              Pays-Bas(1)  \n",
      "10            États-Unis(2)            États-Unis(2)  \n",
      "11             Allemagne(1)             Allemagne(1)  \n",
      "12                    Japon                    Japon  \n",
      "13                 Finlande                   Europe  \n",
      "14              Royaume-Uni              Royaume-Uni  \n",
      "15           Royaume-Uni(2)           Royaume-Uni(2)  \n",
      "16              Finlande(1)              Finlande(1)  \n",
      "17             Australie(1)             Australie(1)  \n",
      "18                Italie(1)                Italie(1)  \n",
      "19                 Japon(1)                 Japon(1)  \n",
      "20               Mexique(1)               Mexique(1)  \n",
      "21  Allemagne de l'Ouest(2)  Allemagne de l'Ouest(2)  \n",
      "22                Canada(1)                Canada(1)  \n",
      "23      Union soviétique(1)      Union soviétique(1)  \n",
      "24            États-Unis(3)            États-Unis(3)  \n",
      "25          Corée du Sud(1)          Corée du Sud(1)  \n",
      "26               Espagne(1)               Espagne(1)  \n",
      "27            États-Unis(4)            États-Unis(4)  \n",
      "28             Australie(2)             Australie(2)  \n",
      "29                 Grèce(3)                 Grèce(3)  \n",
      "30                 Chine(1)                 Chine(1)  \n",
      "31           Royaume-Uni(3)           Royaume-Uni(3)  \n",
      "32                Brésil(1)                Brésil(1)  \n",
      "33                 Japon(2)                 Japon(2)  \n",
      "34                France(3)                France(3)  \n",
      "35            États-Unis(5)            États-Unis(5)  \n",
      "36             Australie(3)             Australie(3)  \n",
      "37                      tbd                      tbd  \n"
     ]
    }
   ],
   "source": [
    "jo = \"https://fr.wikipedia.org/wiki/Jeux_olympiques\"\n",
    "request_text = request.urlopen(jo).read()\n",
    "page = bs4.BeautifulSoup(request_text, \"lxml\")\n",
    "table = page.findAll(\"table\", {\"class\": \"wikitable center\"})\n",
    "\n",
    "# print(table[0].findAll(\"tr\"))\n",
    "liste = []\n",
    "lignes = table[0].findAll(\"tr\")\n",
    "\n",
    "\n",
    "for tr in lignes:\n",
    "    i = 0\n",
    "    liste_case = []\n",
    "    tds = tr.findAll(\"td\")\n",
    "    if len(tds) == 5:\n",
    "        annee = tds[0].get_text(strip=True)\n",
    "        olympiade = tds[1].get_text(strip=True)\n",
    "        ville = tds[2].get_text(strip=True)\n",
    "        pays = tds[3].get_text(strip=True)\n",
    "        continent = tds[3].get_text(strip=True)\n",
    "        liste.append((annee, olympiade, ville, pays, continent))\n",
    "    if len(tds) == 3:\n",
    "        annee, olympiade, _, _, _ = liste[-1]\n",
    "        if (tds[0].find('i')):\n",
    "            ville = tds[0].get_text(strip=True)\n",
    "            pays = tds[1].get_text(strip=True)\n",
    "            continent = tds[2].get_text(strip=True)\n",
    "            liste.append((annee, olympiade, ville, pays, continent))\n",
    "        else:\n",
    "            annee = tds[0].get_text(strip=True)\n",
    "            olympiade = tds[1].find('a').get_text(strip=True)\n",
    "            ville = \"tbd\"\n",
    "            pays = \"tbd\"\n",
    "            continent = \"tbd\"\n",
    "            liste.append((annee, olympiade, ville, pays, continent))\n",
    "\n",
    "header_cells = lignes[0].find_all('th')\n",
    "column_names = [th.get_text(strip=True) for th in header_cells]\n",
    "    \n",
    "dico = {column_names[0]: [elem[0] for elem in liste],\n",
    "        column_names[1]: [elem[1] for elem in liste],\n",
    "        column_names[2]: [elem[2] for elem in liste],\n",
    "        column_names[3]: [elem[3] for elem in liste],\n",
    "        column_names[4]: [elem[4] for elem in liste],\n",
    "       }\n",
    "df = pandas.DataFrame(data=dico)\n",
    "\n",
    "print(df)"
   ]
  },
  {
   "cell_type": "markdown",
   "metadata": {
    "id": "Qw6i-yLueZvG"
   },
   "source": [
    "## Exercice 2: Locate places on a map\n",
    "\n",
    "The objective here is to identify organizer cities on a map.\n",
    "You will have to code the following steps:\n",
    "* Collect the URL of each city\n",
    "* Go the this page using `urllib.request`\n",
    "* Find the coordinates\n",
    "* Store cities and coordinates in a data frame"
   ]
  },
  {
   "cell_type": "code",
   "execution_count": 72,
   "metadata": {
    "id": "7xaYx79JMF_N"
   },
   "outputs": [
    {
     "name": "stdout",
     "output_type": "stream",
     "text": [
      "['https://fr.wikipedia.org/wiki/Ath%C3%A8nes', 'https://fr.wikipedia.org/wiki/Paris', 'https://fr.wikipedia.org/wiki/Saint-Louis_(Missouri)', 'https://fr.wikipedia.org/wiki/Ath%C3%A8nes', 'https://fr.wikipedia.org/wiki/Londres', 'https://fr.wikipedia.org/wiki/Stockholm', 'https://fr.wikipedia.org/wiki/Berlin', 'https://fr.wikipedia.org/wiki/Anvers', 'https://fr.wikipedia.org/wiki/Paris', 'https://fr.wikipedia.org/wiki/Amsterdam', 'https://fr.wikipedia.org/wiki/Los_Angeles', 'https://fr.wikipedia.org/wiki/Berlin', 'https://fr.wikipedia.org/wiki/Tokyo', 'https://fr.wikipedia.org/wiki/Londres', 'https://fr.wikipedia.org/wiki/Londres', 'https://fr.wikipedia.org/wiki/Helsinki', 'https://fr.wikipedia.org/wiki/Melbourne', 'https://fr.wikipedia.org/wiki/Rome', 'https://fr.wikipedia.org/wiki/Tokyo', 'https://fr.wikipedia.org/wiki/Mexico', 'https://fr.wikipedia.org/wiki/Munich', 'https://fr.wikipedia.org/wiki/Montr%C3%A9al', 'https://fr.wikipedia.org/wiki/Moscou', 'https://fr.wikipedia.org/wiki/Los_Angeles', 'https://fr.wikipedia.org/wiki/S%C3%A9oul', 'https://fr.wikipedia.org/wiki/Barcelone', 'https://fr.wikipedia.org/wiki/Atlanta', 'https://fr.wikipedia.org/wiki/Sydney', 'https://fr.wikipedia.org/wiki/Ath%C3%A8nes', 'https://fr.wikipedia.org/wiki/P%C3%A9kin', 'https://fr.wikipedia.org/wiki/Londres', 'https://fr.wikipedia.org/wiki/Rio_de_Janeiro', 'https://fr.wikipedia.org/wiki/Tokyo', 'https://fr.wikipedia.org/wiki/Paris', 'https://fr.wikipedia.org/wiki/Los_Angeles', 'https://fr.wikipedia.org/wiki/Brisbane']\n"
     ]
    }
   ],
   "source": [
    "#[student]\n",
    "\n",
    "jo = \"https://fr.wikipedia.org/wiki/Jeux_olympiques\"\n",
    "request_text = request.urlopen(jo).read()\n",
    "page = bs4.BeautifulSoup(request_text, \"lxml\")\n",
    "table = page.findAll(\"table\", {\"class\": \"wikitable center\"})\n",
    "\n",
    "urls = []\n",
    "lignes = table[0].findAll(\"tr\")\n",
    "\n",
    "\n",
    "for tr in lignes:\n",
    "    td = tr.findAll('td')\n",
    "    if len(td) >= 2 and td[2].find('a'):\n",
    "        urls.append(\"https://fr.wikipedia.org\" + td[2].find('a')[\"href\"])\n",
    "\n",
    "\n",
    "for city in urls:\n",
    "    "
   ]
  },
  {
   "cell_type": "markdown",
   "metadata": {
    "id": "4gqYroUff1UQ"
   },
   "source": [
    "We then transform degree coordinates into numerical coordinates to build a map\n"
   ]
  },
  {
   "cell_type": "code",
   "execution_count": null,
   "metadata": {
    "id": "SPkGBLnVWZWc"
   },
   "outputs": [],
   "source": [
    "import re\n",
    "\n",
    "def dms2dd(degrees, minutes, seconds, direction):\n",
    "    dd = float(degrees) + float(minutes)/60 + float(seconds)/(60*60);\n",
    "    if direction in ('S', 'O'):\n",
    "        dd *= -1\n",
    "    return dd\n",
    "\n",
    "def parse_dms(dms):\n",
    "    parts = re.split('[^\\d\\w]+', dms)\n",
    "    #potentially needs an adaptation\n",
    "    #[student]\n",
    "    lat = dms2dd(parts[0], parts[1], parts[2], parts[3])\n",
    "    #lng = dms2dd(parts[4], parts[5], parts[6], parts[7])\n",
    "    return lat\n",
    "\n",
    "data['latitude'] = data['latitude'].apply(parse_dms)\n",
    "#data['longitude'] = data['longitude'].apply(parse_dms)\n",
    "print(data)"
   ]
  },
  {
   "cell_type": "markdown",
   "metadata": {
    "id": "j3_3JmXggIEk"
   },
   "source": [
    "The map can be obtain with the following code"
   ]
  },
  {
   "cell_type": "code",
   "execution_count": null,
   "metadata": {
    "id": "93_lzZI3Wkpt"
   },
   "outputs": [],
   "source": [
    "import geopandas as gpd\n",
    "from pathlib import Path\n",
    "import folium\n",
    "from IPython.display import display\n",
    "\n",
    "gdf = gpd.GeoDataFrame(\n",
    "    data, geometry=gpd.points_from_xy(data.longitude, data.latitude))\n",
    "\n",
    "Path(\"leaflet\").mkdir(parents=True, exist_ok=True)\n",
    "\n",
    "center = gdf[['latitude', 'longitude']].mean().values.tolist()\n",
    "sw = gdf[['latitude', 'longitude']].min().values.tolist()\n",
    "ne = gdf[['latitude', 'longitude']].max().values.tolist()\n",
    "\n",
    "m = folium.Map(location = center, tiles='openstreetmap')\n",
    "\n",
    "# I can add marker one by one on the map\n",
    "for i in range(0,len(gdf)):\n",
    "    folium.Marker([gdf.iloc[i]['latitude'], gdf.iloc[i]['longitude']], popup=gdf.iloc[i]['name']).add_to(m)\n",
    "\n",
    "m.fit_bounds([sw, ne])\n",
    "display(m)"
   ]
  },
  {
   "cell_type": "markdown",
   "metadata": {
    "id": "BX4011aO3h4f"
   },
   "source": [
    "# Project\n",
    "\n",
    "The objective of this project is to practice all concepts taught in the main lecture. Therefore, you will have to collect data around a thematic, identify a problematic, clean and format the data, provide some exploratory analysis and visualization, build models and evaluate them. You will have also to design dashboard and to storytell the whole pipeline.\n",
    "\n",
    "\n",
    "The whole project will have two outputs describing the methodology and the results:\n",
    "* A technical report targeting your datascientist colleagues\n",
    "* An oral presentation targeting your CEO, chief, client. In this case, we assume that the audience is not specialized in data science. (But you also need to present the methodology to convince them to trust the results).\n",
    "\n",
    "\n",
    "**Requests:**\n",
    "* Team work of two people (same group throughout the semester)\n",
    "* All your work should be stored on a git repo: [tutorial](https://github.com/baskiotisn/2IN013robot2023/blob/d979333fb80c9b6acd9515aaec040943d10d365c/docs/tutoriel_git.pdf)\n",
    "\n",
    "**Remarks:**\n",
    "There are also other libraries or issues you'll encounter when collecting data. Some of these are listed below, but don't be shy and interact with a search engine to solve your own issue!\n",
    "* [Regular expressions](https://docs.python.org/3/howto/regex.html) might be useful!\n",
    "* [API with authentication](https://www.geeksforgeeks.org/authentication-using-python-requests/)\n",
    "*   [Selenium](https://selenium-python.readthedocs.io/) when pages are generated wia javascript scripts\n",
    "* [Playwright](https://playwright.dev/) --> looks easier and more adapted than Selenium\n",
    "* [Scrapy](https://scrapy.org/) for web crawling / or when you don't know the URL.[Tuto here](https://doc.scrapy.org/en/latest/intro/tutorial.html)\n",
    "* [Summary of some difficulties in scrapping data from the web](https://www.zenrows.com/blog/web-scraping-challenges#page-structure-changes)\n",
    "\n",
    "## Your daily task\n",
    "Collecting data from the web and open data portals. Open data might include csv files, you can use them, but be aware that scraping should be your main acitivity in the dataset gathering.\n",
    "You can begin to format the data, merge them to build dataframe that would be analyzed next week."
   ]
  }
 ],
 "metadata": {
  "colab": {
   "provenance": []
  },
  "kernelspec": {
   "display_name": "Python 3 (ipykernel)",
   "language": "python",
   "name": "python3"
  },
  "language_info": {
   "codemirror_mode": {
    "name": "ipython",
    "version": 3
   },
   "file_extension": ".py",
   "mimetype": "text/x-python",
   "name": "python",
   "nbconvert_exporter": "python",
   "pygments_lexer": "ipython3",
   "version": "3.11.4"
  }
 },
 "nbformat": 4,
 "nbformat_minor": 4
}
