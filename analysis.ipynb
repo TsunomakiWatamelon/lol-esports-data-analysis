{
 "cells": [
  {
   "cell_type": "code",
   "execution_count": 1,
   "metadata": {},
   "outputs": [],
   "source": [
    "\n",
    "import pandas as pd\n",
    "import numpy"
   ]
  },
  {
   "cell_type": "code",
   "execution_count": 2,
   "metadata": {},
   "outputs": [],
   "source": [
    "df_team = pd.read_csv('LCK_team_stats.csv')\n",
    "df_player = pd.read_csv('LCK_player_stats.csv')"
   ]
  },
  {
   "cell_type": "code",
   "execution_count": 3,
   "metadata": {},
   "outputs": [
    {
     "data": {
      "text/plain": [
       "<bound method NDFrame.describe of     Year   Split                 Name Season Region  Games Win rate   K:D  \\\n",
       "0   2023  Summer                BRION    S13     KR     45    33.3%  0.79   \n",
       "1   2023  Summer            Dplus KIA    S13     KR     40    60.0%  1.23   \n",
       "2   2023  Summer                  DRX    S13     KR     43    37.2%  0.72   \n",
       "3   2023  Summer        Gen.G eSports    S13     KR     39    82.1%  1.77   \n",
       "4   2023  Summer  Hanwha Life eSports    S13     KR     41    65.9%  1.27   \n",
       "..   ...     ...                  ...    ...    ...    ...      ...   ...   \n",
       "75  2020  Spring  Hanwha Life eSports    S10     KR     45    37.8%  0.72   \n",
       "76  2020  Spring           KT Rolster    S10     KR     46    52.2%  1.05   \n",
       "77  2020  Spring       Sandbox Gaming    S10     KR     44    36.4%  0.84   \n",
       "78  2020  Spring    SeolHaeOne Prince    S10     KR     43    39.5%  0.75   \n",
       "79  2020  Spring                   T1    S10     KR     44    68.2%  1.50   \n",
       "\n",
       "     GPM  GDM  ... TD@15  GD@15   PPG  NASHPG  NASH%   CSM   DPM  WPM  VWPM  \\\n",
       "0   1749 -112  ...   0.0   -277  3.47    0.60   43.8  34.5  1848  3.5  1.47   \n",
       "1   1859   78  ...   0.1    638  4.83    0.88   61.6  33.8  2308  3.6  1.46   \n",
       "2   1733 -159  ...   0.0  -1036  4.26    0.63   38.2  32.6  1964  3.4  1.42   \n",
       "3   1969  275  ...   0.3   1232  5.51    0.92   73.4  35.7  2269  3.3  1.10   \n",
       "4   1887   98  ...   0.0    407  4.41    0.88   55.0  34.9  2162  3.6  1.62   \n",
       "..   ...  ...  ...   ...    ...   ...     ...    ...   ...   ...  ...   ...   \n",
       "75  1655 -144  ...  -0.2  -1133     -    0.42   39.6  31.5  1709  3.7  1.68   \n",
       "76  1725   31  ...   0.4    420     -    0.54   48.8  32.6  1697  3.7  1.58   \n",
       "77  1683  -73  ...   0.0   -113     -    0.45   41.7  32.7  1625  3.9  1.56   \n",
       "78  1668 -116  ...   0.0   -925     -    0.67   50.5  31.2  1827  3.7  1.44   \n",
       "79  1790  131  ...  -0.1    342     -    0.75   65.8  34.0  1739  4.0  1.42   \n",
       "\n",
       "    WCPM  \n",
       "0   1.87  \n",
       "1   1.65  \n",
       "2   1.72  \n",
       "3   1.75  \n",
       "4   1.58  \n",
       "..   ...  \n",
       "75  1.66  \n",
       "76  1.79  \n",
       "77  1.87  \n",
       "78  1.78  \n",
       "79  1.82  \n",
       "\n",
       "[80 rows x 32 columns]>"
      ]
     },
     "execution_count": 3,
     "metadata": {},
     "output_type": "execute_result"
    }
   ],
   "source": [
    "df_team.describe"
   ]
  },
  {
   "cell_type": "code",
   "execution_count": null,
   "metadata": {},
   "outputs": [],
   "source": []
  }
 ],
 "metadata": {
  "kernelspec": {
   "display_name": "Python 3",
   "language": "python",
   "name": "python3"
  },
  "language_info": {
   "codemirror_mode": {
    "name": "ipython",
    "version": 3
   },
   "file_extension": ".py",
   "mimetype": "text/x-python",
   "name": "python",
   "nbconvert_exporter": "python",
   "pygments_lexer": "ipython3",
   "version": "3.10.13"
  }
 },
 "nbformat": 4,
 "nbformat_minor": 2
}
