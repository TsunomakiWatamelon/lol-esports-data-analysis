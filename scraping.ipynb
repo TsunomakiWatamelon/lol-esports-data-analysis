{
 "cells": [
  {
   "cell_type": "code",
   "execution_count": 1,
   "id": "b5e2cc43-592c-4326-a94e-e8b0a49eb33b",
   "metadata": {},
   "outputs": [],
   "source": [
    "!pip install -q lxml"
   ]
  },
  {
   "cell_type": "code",
   "execution_count": 1,
   "id": "ef2b6e7a-0792-4208-982e-ceac6e997dab",
   "metadata": {},
   "outputs": [],
   "source": [
    "import bs4\n",
    "import lxml\n",
    "import pandas as pd\n",
    "import urllib\n",
    "import numpy"
   ]
  },
  {
   "cell_type": "code",
   "execution_count": 2,
   "id": "e634ba46-4561-4756-a559-182aa11ee602",
   "metadata": {},
   "outputs": [],
   "source": [
    "from urllib import request"
   ]
  },
  {
   "cell_type": "code",
   "execution_count": 3,
   "id": "051fa41d-4ebc-4b18-85a6-486d550cc5d4",
   "metadata": {},
   "outputs": [],
   "source": [
    "def firefoxPage(link):\n",
    "    req = request.Request(\n",
    "        url=link, \n",
    "        headers={'User-Agent': 'Mozilla/5.0'} # IMPORTANT (sinon connection refusee)\n",
    "    )\n",
    "    html_page = request.urlopen(req)\n",
    "    return html_page"
   ]
  },
  {
   "cell_type": "markdown",
   "id": "b12e38af-fe8a-4905-ab44-a42b6fff07dc",
   "metadata": {},
   "source": [
    "### Obtenir les liens de tous les joueurs en LCK summer 2023"
   ]
  },
  {
   "cell_type": "code",
   "execution_count": 4,
   "id": "3ded3027-a534-4dc0-9c1e-d1a5f828f279",
   "metadata": {},
   "outputs": [],
   "source": [
    "from bs4 import BeautifulSoup\n",
    "\n",
    "# https://gol.gg/players/list/season-ALL/split-ALL/tournament-LCK%20Summer%202022/\n",
    "\n",
    "LCK_split_link_list = [(\"https://gol.gg/players/list/season-ALL/split-ALL/tournament-LCK%20Summer%202023/\", 2023, \"Summer\"),\n",
    "                       (\"https://gol.gg/players/list/season-ALL/split-ALL/tournament-LCK%20Spring%202023/\", 2023, \"Spring\"),\n",
    "                       (\"https://gol.gg/players/list/season-ALL/split-ALL/tournament-LCK%20Summer%202022/\", 2022, \"Summer\"),\n",
    "                       (\"https://gol.gg/players/list/season-ALL/split-ALL/tournament-LCK%20Spring%202022/\", 2022, \"Spring\"),\n",
    "                       (\"https://gol.gg/players/list/season-ALL/split-ALL/tournament-LCK%20Summer%202021/\", 2021, \"Summer\"),\n",
    "                       (\"https://gol.gg/players/list/season-ALL/split-ALL/tournament-LCK%20Spring%202021/\", 2021, \"Spring\"),\n",
    "                       (\"https://gol.gg/players/list/season-ALL/split-ALL/tournament-LCK%20Summer%202020/\", 2020, \"Summer\"),\n",
    "                       (\"https://gol.gg/players/list/season-ALL/split-ALL/tournament-LCK%20Spring%202020/\", 2020, \"Spring\")]\n",
    "\n",
    "player_link_list = []\n",
    "for (link, year, split) in LCK_split_link_list:\n",
    "    html_page = firefoxPage(link)\n",
    "    soup = BeautifulSoup(html_page, features=\"lxml\")\n",
    "    for link in soup.find_all('a'):\n",
    "        if str(link.get('href')).startswith(\"./player-stats/\"):\n",
    "            player_link_list.append((str(link.get('href')).strip('.'), year, split))"
   ]
  },
  {
   "cell_type": "markdown",
   "id": "6d19e72c-36fb-4498-b35f-07b9a2f80d1e",
   "metadata": {},
   "source": [
    "### Obtenir les stats des joueurs"
   ]
  },
  {
   "cell_type": "code",
   "execution_count": 57,
   "id": "87fa5ea4-c832-4968-96d0-e1ff5ae559a0",
   "metadata": {},
   "outputs": [],
   "source": [
    "def checkCols(cols):\n",
    "    if cols == None:\n",
    "        return False\n",
    "    for k in cols:\n",
    "        if k != '':\n",
    "            return True\n",
    "    return False\n",
    "\n",
    "data = []\n",
    "columnNames = ['Player', 'Year', 'Split']\n",
    "generateCol = True\n",
    "for link, year, split in player_link_list:\n",
    "    link = link.strip()\n",
    "    html = firefoxPage(\"https://gol.gg/players\" + link)\n",
    "    soup = BeautifulSoup(html, features=\"lxml\")\n",
    "\n",
    "    table = soup.find(\"table\", attrs={\"class\": \"table_list\"})\n",
    "    name = soup.find(\"h1\").text.strip()\n",
    "    playerStat = [name, year, split]\n",
    "\n",
    "    rows = table.find_all('tr')\n",
    "    if columnNames != ['Player', 'Year', 'Split']:\n",
    "        generateCol = False\n",
    "    for row in rows:\n",
    "\n",
    "        cols = row.find_all('td')\n",
    "        cols = [ele.text.strip() for ele in cols]\n",
    "\n",
    "        if checkCols(cols):\n",
    "            if generateCol:\n",
    "                columnNames.append(cols[0])\n",
    "            playerStat = playerStat + [elem for elem in cols[1:] if elem != '']\n",
    "    data.append(playerStat)\n",
    "\n",
    "df = pd.DataFrame(data, columns=columnNames)\n",
    "df.to_csv(\"LCK_player_stats.csv\", index=False)\n",
    "\n"
   ]
  },
  {
   "cell_type": "code",
   "execution_count": 5,
   "id": "ca3eb603-51cb-43cf-9abe-04dadf2ac362",
   "metadata": {},
   "outputs": [],
   "source": [
    "df = pd.read_csv(\"LCK_player_stats.csv\")"
   ]
  },
  {
   "cell_type": "markdown",
   "id": "ca168254-bd39-45aa-8ee9-a3060aac3cae",
   "metadata": {},
   "source": [
    "### Obtenir les liens de tous les equipes"
   ]
  },
  {
   "cell_type": "code",
   "execution_count": 6,
   "id": "b26ac01c-0d2f-4f93-a520-5ff540c555f6",
   "metadata": {},
   "outputs": [],
   "source": [
    "from bs4 import BeautifulSoup\n",
    "\n",
    "def LCK_link_suffix(split, year):\n",
    "    \n",
    "    return ('LCK ' + split + ' ' + str(year) + '/','LCK%20' + split + '%20' + str(year) + '/')\n",
    "\n",
    "LCK_split_link_list = [(\"https://gol.gg/teams/list/season-S13/split-Summer/tournament-LCK%20Summer%202023/\", 2023, \"Summer\"),\n",
    "                       (\"https://gol.gg/teams/list/season-S13/split-Spring/tournament-LCK%20Spring%202023/\", 2023, \"Spring\"),\n",
    "                       (\"https://gol.gg/teams/list/season-S12/split-ALL/tournament-LCK%20Summer%202022/\", 2022, \"Summer\"),\n",
    "                       (\"https://gol.gg/teams/list/season-S12/split-Spring/tournament-LCK%20Spring%202022/\", 2022, \"Spring\"),\n",
    "                       (\"https://gol.gg/teams/list/season-S11/split-ALL/tournament-LCK%20Summer%202021/\", 2021, \"Summer\"),\n",
    "                       (\"https://gol.gg/teams/list/season-S11/split-Spring/tournament-LCK%20Spring%202021/\", 2021, \"Spring\"),\n",
    "                       (\"https://gol.gg/teams/list/season-S10/split-ALL/tournament-LCK%20Summer%202020/\", 2020, \"Summer\"),\n",
    "                       (\"https://gol.gg/teams/list/season-S10/split-Spring/tournament-LCK%20Spring%202020/\", 2020, \"Spring\")]\n",
    "\n",
    "team_link_list = []\n",
    "\n",
    "for (link, year, split) in LCK_split_link_list:\n",
    "    html_page = firefoxPage(link)\n",
    "    soup = BeautifulSoup(html_page, features=\"lxml\")\n",
    "    for link2 in soup.find_all('a'):\n",
    "        if str(link2.get('href')).startswith(\"./team-stats/\"):\n",
    "            old, new = LCK_link_suffix(split, year)\n",
    "            team_link_list.append((str(link2.get('href')).strip('.').replace(old, new), year, split))"
   ]
  },
  {
   "cell_type": "markdown",
   "id": "fb32315b-0ad2-4260-a18b-2ac391bdedf2",
   "metadata": {},
   "source": [
    "### Obtenir les roles des joueurs"
   ]
  },
  {
   "cell_type": "code",
   "execution_count": 7,
   "id": "9282d946-1776-4f9d-bee5-09f66ecb3bf3",
   "metadata": {},
   "outputs": [],
   "source": [
    "def get_player_table(soup, team_name):\n",
    "    tables = soup.find_all('table')\n",
    "    for table in tables:\n",
    "        caption = table.find('caption')\n",
    "        if caption and caption.text.strip() == team_name + ' player\\'s stats':\n",
    "            return table\n",
    "        else:\n",
    "            continue\n",
    "    return None\n",
    "\n",
    "labels = ['Team', 'Year', 'Split','Role','Player']\n",
    "data = []\n",
    "\n",
    "for link, year, split in team_link_list:\n",
    "    link = link.strip()\n",
    "    html = firefoxPage(\"https://gol.gg/teams\" + link)\n",
    "    soup = BeautifulSoup(html, features=\"lxml\")\n",
    "\n",
    "    table = soup.find(\"table\", attrs={\"class\": \"table_list\"})\n",
    "    name = soup.find(\"h1\").text.strip()\n",
    "    rows = get_player_table(soup, name).find_all('tr')\n",
    "    \n",
    "    for row in rows:\n",
    "        tds = row.find_all('td')\n",
    "        if len(tds) >= 2:\n",
    "            stat = [name] # Team\n",
    "            stat.append(year) # Year\n",
    "            stat.append(split) # Split\n",
    "            stat.append(tds[0].text.strip())  # Role\n",
    "            stat.append(tds[1].text.strip()) # Player\n",
    "            data.append(stat)\n",
    "dfrole = pd.DataFrame(data, columns=labels)"
   ]
  },
  {
   "cell_type": "code",
   "execution_count": 8,
   "id": "1d9fd6aa-6e9b-477c-8c53-2593654dc00a",
   "metadata": {},
   "outputs": [
    {
     "name": "stdout",
     "output_type": "stream",
     "text": [
      "      Team  Year   Split     Role  Player\n",
      "0    BRION  2023  Summer      TOP  Morgan\n",
      "1    BRION  2023  Summer   JUNGLE    UmTi\n",
      "2    BRION  2023  Summer      MID   Karis\n",
      "3    BRION  2023  Summer      BOT    Hena\n",
      "4    BRION  2023  Summer  SUPPORT  Effort\n",
      "..     ...   ...     ...      ...     ...\n",
      "634     T1  2020  Spring  SUPPORT  Effort\n",
      "635     T1  2020  Spring      TOP   Roach\n",
      "636     T1  2020  Spring   JUNGLE   Ellim\n",
      "637     T1  2020  Spring      BOT  Effort\n",
      "638     T1  2020  Spring  SUPPORT   Teddy\n",
      "\n",
      "[639 rows x 5 columns]\n"
     ]
    }
   ],
   "source": [
    "print(dfrole)"
   ]
  },
  {
   "cell_type": "code",
   "execution_count": 53,
   "id": "18c53702",
   "metadata": {},
   "outputs": [],
   "source": [
    "dfrole.to_csv(\"LCK_player_role.csv\", index=False)"
   ]
  },
  {
   "cell_type": "markdown",
   "id": "031cb45e-cc84-4d65-8967-37bda30444ed",
   "metadata": {},
   "source": [
    "### Stats finaux joueurs"
   ]
  },
  {
   "cell_type": "code",
   "execution_count": 9,
   "id": "078cf2aa-db77-4fc9-8dcf-e6c5a7edc856",
   "metadata": {},
   "outputs": [],
   "source": [
    "players = pd.merge(dfrole, df, on=['Player', 'Year', 'Split'])"
   ]
  },
  {
   "cell_type": "code",
   "execution_count": 10,
   "id": "945e4cfa",
   "metadata": {},
   "outputs": [
    {
     "name": "stdout",
     "output_type": "stream",
     "text": [
      "     Player  Year   Split    Record: Win Rate: KDA:  CS per Minute:  \\\n",
      "0    Aiming  2023  Summer   34W - 6L       85%  9.1            10.5   \n",
      "1     Andil  2023  Summer   2W - 18L       10%  1.3             1.1   \n",
      "2       Bdd  2023  Summer   34W - 6L       85%  7.2             8.8   \n",
      "3     BeryL  2023  Summer  16W - 27L     37.2%  2.1             1.3   \n",
      "4     Bible  2023  Summer    8W - 5L     61.5%  2.8             1.1   \n",
      "..      ...   ...     ...        ...       ...  ...             ...   \n",
      "543   Viper  2020  Spring  16W - 29L     35.6%  3.9             9.9   \n",
      "544    Vsta  2020  Spring  13W - 22L     37.1%  3.4             8.3   \n",
      "545   Zenit  2020  Spring    1W - 4L       20%  1.6             8.0   \n",
      "546    bono  2020  Spring  24W - 17L     58.5%  4.1             5.2   \n",
      "547    kurO  2020  Spring  24W - 22L     52.2%  4.7             8.3   \n",
      "\n",
      "     Gold Per Minute: Gold%: Kill Participation:  \n",
      "0                 508    26%               75.2%  \n",
      "1                 215  12.7%               64.9%  \n",
      "2                 417  21.3%               69.9%  \n",
      "3                 232  13.5%               68.2%  \n",
      "4                 238  12.9%               67.1%  \n",
      "..                ...    ...                 ...  \n",
      "543               419  25.6%               70.3%  \n",
      "544               380  22.9%               68.8%  \n",
      "545               347    22%               56.8%  \n",
      "546               311  17.8%               76.3%  \n",
      "547               369  21.4%               71.4%  \n",
      "\n",
      "[548 rows x 10 columns]\n"
     ]
    }
   ],
   "source": [
    "print(df)"
   ]
  },
  {
   "cell_type": "code",
   "execution_count": 67,
   "id": "9f275f3c-7c0c-4dd8-9160-396f8113d6cc",
   "metadata": {},
   "outputs": [
    {
     "name": "stdout",
     "output_type": "stream",
     "text": [
      "      Team  Year   Split     Role  Player    Record: Win Rate: KDA:  \\\n",
      "0    BRION  2023  Summer      TOP  Morgan  15W - 30L     33.3%  2.1   \n",
      "1    BRION  2023  Summer   JUNGLE    UmTi  15W - 30L     33.3%  2.9   \n",
      "2    BRION  2023  Summer      MID   Karis  12W - 23L     34.3%  3.5   \n",
      "3    BRION  2023  Summer      BOT    Hena  15W - 30L     33.3%  3.3   \n",
      "4    BRION  2023  Summer  SUPPORT  Effort  15W - 30L     33.3%  2.6   \n",
      "..     ...   ...     ...      ...     ...        ...       ...  ...   \n",
      "634     T1  2020  Spring  SUPPORT   Teddy  30W - 14L     68.2%  7.1   \n",
      "635     T1  2020  Spring  SUPPORT  Effort  30W - 14L     68.2%  3.6   \n",
      "636     T1  2020  Spring      BOT  Effort  30W - 14L     68.2%  3.6   \n",
      "637     T1  2020  Spring      TOP   Roach    2W - 2L       50%  2.1   \n",
      "638     T1  2020  Spring   JUNGLE   Ellim    6W - 3L     66.7%  6.3   \n",
      "\n",
      "     CS per Minute:  Gold Per Minute: Gold%: Kill Participation:  \n",
      "0               8.9               390  22.3%                 52%  \n",
      "1               5.4               317  18.1%                 76%  \n",
      "2               9.2               398  22.6%               69.8%  \n",
      "3              10.0               425  24.4%               68.9%  \n",
      "4               1.0               226  12.9%               71.8%  \n",
      "..              ...               ...    ...                 ...  \n",
      "634            10.7               464  25.9%               74.1%  \n",
      "635             1.2               235  13.1%               69.3%  \n",
      "636             1.2               235  13.1%               69.3%  \n",
      "637             7.7               364  20.8%               53.6%  \n",
      "638             5.2               329  18.3%               80.8%  \n",
      "\n",
      "[639 rows x 12 columns]\n"
     ]
    }
   ],
   "source": [
    "print(players)"
   ]
  },
  {
   "cell_type": "markdown",
   "id": "d567e016-f12f-4203-bb02-ac07784985e3",
   "metadata": {},
   "source": [
    "### Obtenir stats equipes"
   ]
  },
  {
   "cell_type": "code",
   "execution_count": 11,
   "id": "afb3a0ae-0200-4959-ad39-ed5d0091be5b",
   "metadata": {},
   "outputs": [],
   "source": [
    "from bs4 import BeautifulSoup\n",
    "\n",
    "data = []\n",
    "labels = None\n",
    "for (link, year, split) in LCK_split_link_list:\n",
    "    html_page = firefoxPage(link)\n",
    "    soup = BeautifulSoup(html_page, features=\"lxml\")\n",
    "    table = soup.find_all('table')[1]\n",
    "    rows = table.find_all('tr')\n",
    "    if labels == None:\n",
    "        labels = ['Year', 'Split'] + [elem.text.strip() for elem in table.find('thead').find_all('th')]\n",
    "    for row in rows:\n",
    "        stat = [year, split]\n",
    "        tds = row.find_all('td')\n",
    "        for td in tds:\n",
    "            stat.append(td.text.strip())\n",
    "        if (stat != [year, split]):\n",
    "            data.append(stat)\n",
    "\n",
    "dfteam  = pd.DataFrame(data, columns=labels)"
   ]
  },
  {
   "cell_type": "code",
   "execution_count": 12,
   "id": "901ed135-bbdc-40b5-990f-58085c6f50f2",
   "metadata": {},
   "outputs": [
    {
     "name": "stdout",
     "output_type": "stream",
     "text": [
      "    Year   Split                 Name Season Region Games Win rate   K:D  \\\n",
      "0   2023  Summer                BRION    S13     KR    45    33.3%  0.79   \n",
      "1   2023  Summer            Dplus KIA    S13     KR    40    60.0%  1.23   \n",
      "2   2023  Summer                  DRX    S13     KR    43    37.2%  0.72   \n",
      "3   2023  Summer        Gen.G eSports    S13     KR    39    82.1%  1.77   \n",
      "4   2023  Summer  Hanwha Life eSports    S13     KR    41    65.9%  1.27   \n",
      "..   ...     ...                  ...    ...    ...   ...      ...   ...   \n",
      "75  2020  Spring  Hanwha Life eSports    S10     KR    45    37.8%  0.72   \n",
      "76  2020  Spring           KT Rolster    S10     KR    46    52.2%  1.05   \n",
      "77  2020  Spring       Sandbox Gaming    S10     KR    44    36.4%  0.84   \n",
      "78  2020  Spring    SeolHaeOne Prince    S10     KR    43    39.5%  0.75   \n",
      "79  2020  Spring                   T1    S10     KR    44    68.2%  1.50   \n",
      "\n",
      "     GPM   GDM  ... TD@15  GD@15   PPG NASHPG NASH%   CSM   DPM  WPM  VWPM  \\\n",
      "0   1749  -112  ...   0.0   -277  3.47   0.60  43.8  34.5  1848  3.5  1.47   \n",
      "1   1859    78  ...   0.1    638  4.83   0.88  61.6  33.8  2308  3.6  1.46   \n",
      "2   1733  -159  ...   0.0  -1036  4.26   0.63  38.2  32.6  1964  3.4  1.42   \n",
      "3   1969   275  ...   0.3   1232  5.51   0.92  73.4  35.7  2269  3.3  1.10   \n",
      "4   1887    98  ...   0.0    407  4.41   0.88  55.0  34.9  2162  3.6  1.62   \n",
      "..   ...   ...  ...   ...    ...   ...    ...   ...   ...   ...  ...   ...   \n",
      "75  1655  -144  ...  -0.2  -1133     -   0.42  39.6  31.5  1709  3.7  1.68   \n",
      "76  1725    31  ...   0.4    420     -   0.54  48.8  32.6  1697  3.7  1.58   \n",
      "77  1683   -73  ...   0.0   -113     -   0.45  41.7  32.7  1625  3.9  1.56   \n",
      "78  1668  -116  ...   0.0   -925     -   0.67  50.5  31.2  1827  3.7  1.44   \n",
      "79  1790   131  ...  -0.1    342     -   0.75  65.8  34.0  1739  4.0  1.42   \n",
      "\n",
      "    WCPM  \n",
      "0   1.87  \n",
      "1   1.65  \n",
      "2   1.72  \n",
      "3   1.75  \n",
      "4   1.58  \n",
      "..   ...  \n",
      "75  1.66  \n",
      "76  1.79  \n",
      "77  1.87  \n",
      "78  1.78  \n",
      "79  1.82  \n",
      "\n",
      "[80 rows x 32 columns]\n"
     ]
    }
   ],
   "source": [
    "print(dfteam)"
   ]
  },
  {
   "cell_type": "code",
   "execution_count": 13,
   "id": "5150c8cb-6758-4c47-8bb1-397e3d159799",
   "metadata": {},
   "outputs": [],
   "source": [
    "dfteam.to_csv(\"LCK_team_stats.csv\", index=False)"
   ]
  },
  {
   "cell_type": "code",
   "execution_count": null,
   "id": "a0809dd4",
   "metadata": {},
   "outputs": [],
   "source": []
  }
 ],
 "metadata": {
  "kernelspec": {
   "display_name": "Python 3 (ipykernel)",
   "language": "python",
   "name": "python3"
  },
  "language_info": {
   "codemirror_mode": {
    "name": "ipython",
    "version": 3
   },
   "file_extension": ".py",
   "mimetype": "text/x-python",
   "name": "python",
   "nbconvert_exporter": "python",
   "pygments_lexer": "ipython3",
   "version": "3.10.13"
  }
 },
 "nbformat": 4,
 "nbformat_minor": 5
}
