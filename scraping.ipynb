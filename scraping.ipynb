{
 "cells": [
  {
   "cell_type": "code",
   "execution_count": 1,
   "id": "b5e2cc43-592c-4326-a94e-e8b0a49eb33b",
   "metadata": {},
   "outputs": [],
   "source": [
    "!pip install -q lxml"
   ]
  },
  {
   "cell_type": "code",
   "execution_count": 2,
   "id": "ef2b6e7a-0792-4208-982e-ceac6e997dab",
   "metadata": {},
   "outputs": [],
   "source": [
    "import bs4\n",
    "import lxml\n",
    "import pandas as pd\n",
    "import urllib\n",
    "import numpy"
   ]
  },
  {
   "cell_type": "code",
   "execution_count": 3,
   "id": "e634ba46-4561-4756-a559-182aa11ee602",
   "metadata": {},
   "outputs": [],
   "source": [
    "from urllib import request"
   ]
  },
  {
   "cell_type": "code",
   "execution_count": 10,
   "id": "051fa41d-4ebc-4b18-85a6-486d550cc5d4",
   "metadata": {},
   "outputs": [],
   "source": [
    "def firefoxPage(link):\n",
    "    req = request.Request(\n",
    "        url=link, \n",
    "        headers={'User-Agent': 'Mozilla/5.0'} # IMPORTANT (sinon connection refusee)\n",
    "    )\n",
    "    html_page = request.urlopen(req)\n",
    "    return html_page"
   ]
  },
  {
   "cell_type": "markdown",
   "id": "b12e38af-fe8a-4905-ab44-a42b6fff07dc",
   "metadata": {},
   "source": [
    "### Obtenir les liens de tous les joueurs en LCK summer 2023"
   ]
  },
  {
   "cell_type": "code",
   "execution_count": 46,
   "id": "3ded3027-a534-4dc0-9c1e-d1a5f828f279",
   "metadata": {},
   "outputs": [],
   "source": [
    "from bs4 import BeautifulSoup\n",
    "\n",
    "# https://gol.gg/players/list/season-ALL/split-ALL/tournament-LCK%20Summer%202022/\n",
    "\n",
    "LCK_split_link_list = [(\"https://gol.gg/players/list/season-ALL/split-ALL/tournament-LCK%20Summer%202023/\", 2023, \"Summer\"),\n",
    "                       (\"https://gol.gg/players/list/season-ALL/split-ALL/tournament-LCK%20Spring%202023/\", 2023, \"Spring\"),\n",
    "                       (\"https://gol.gg/players/list/season-ALL/split-ALL/tournament-LCK%20Summer%202022/\", 2022, \"Summer\"),\n",
    "                       (\"https://gol.gg/players/list/season-ALL/split-ALL/tournament-LCK%20Spring%202022/\", 2022, \"Spring\"),\n",
    "                       (\"https://gol.gg/players/list/season-ALL/split-ALL/tournament-LCK%20Summer%202021/\", 2021, \"Summer\"),\n",
    "                       (\"https://gol.gg/players/list/season-ALL/split-ALL/tournament-LCK%20Spring%202021/\", 2021, \"Spring\"),\n",
    "                       (\"https://gol.gg/players/list/season-ALL/split-ALL/tournament-LCK%20Summer%202020/\", 2020, \"Summer\"),\n",
    "                       (\"https://gol.gg/players/list/season-ALL/split-ALL/tournament-LCK%20Spring%202020/\", 2020, \"Spring\")]\n",
    "\n",
    "player_link_list = []\n",
    "for (link, year, split) in LCK_split_link_list:\n",
    "    html_page = firefoxPage(link)\n",
    "    soup = BeautifulSoup(html_page, features=\"lxml\")\n",
    "    for link in soup.find_all('a'):\n",
    "        if str(link.get('href')).startswith(\"./player-stats/\"):\n",
    "            player_link_list.append((str(link.get('href')).strip('.'), year, split))"
   ]
  },
  {
   "cell_type": "markdown",
   "id": "6d19e72c-36fb-4498-b35f-07b9a2f80d1e",
   "metadata": {},
   "source": [
    "### Obtenir les stats des joueurs"
   ]
  },
  {
   "cell_type": "code",
   "execution_count": 57,
   "id": "87fa5ea4-c832-4968-96d0-e1ff5ae559a0",
   "metadata": {},
   "outputs": [],
   "source": [
    "def checkCols(cols):\n",
    "    if cols == None:\n",
    "        return False\n",
    "    for k in cols:\n",
    "        if k != '':\n",
    "            return True\n",
    "    return False\n",
    "\n",
    "data = []\n",
    "columnNames = ['Player', 'Year', 'Split']\n",
    "generateCol = True\n",
    "for link, year, split in player_link_list:\n",
    "    link = link.strip()\n",
    "    html = firefoxPage(\"https://gol.gg/players\" + link)\n",
    "    soup = BeautifulSoup(html, features=\"lxml\")\n",
    "\n",
    "    table = soup.find(\"table\", attrs={\"class\": \"table_list\"})\n",
    "    name = soup.find(\"h1\").text.strip()\n",
    "    playerStat = [name, year, split]\n",
    "\n",
    "    rows = table.find_all('tr')\n",
    "    if columnNames != ['Player', 'Year', 'Split']:\n",
    "        generateCol = False\n",
    "    for row in rows:\n",
    "\n",
    "        cols = row.find_all('td')\n",
    "        cols = [ele.text.strip() for ele in cols]\n",
    "\n",
    "        if checkCols(cols):\n",
    "            if generateCol:\n",
    "                columnNames.append(cols[0])\n",
    "            playerStat = playerStat + [elem for elem in cols[1:] if elem != '']\n",
    "    data.append(playerStat)\n",
    "\n",
    "df = pd.DataFrame(data, columns=columnNames)\n",
    "df.to_csv(\"LCK_player_stats.csv\", index=False)\n",
    "\n"
   ]
  },
  {
   "cell_type": "code",
   "execution_count": 64,
   "id": "ca3eb603-51cb-43cf-9abe-04dadf2ac362",
   "metadata": {},
   "outputs": [],
   "source": [
    "df = pd.read_csv(\"LCK_player_stats.csv\")"
   ]
  },
  {
   "cell_type": "markdown",
   "id": "ca168254-bd39-45aa-8ee9-a3060aac3cae",
   "metadata": {},
   "source": [
    "### Obtenir les liens de tous les equipes"
   ]
  },
  {
   "cell_type": "code",
   "execution_count": 50,
   "id": "b26ac01c-0d2f-4f93-a520-5ff540c555f6",
   "metadata": {},
   "outputs": [],
   "source": [
    "from bs4 import BeautifulSoup\n",
    "\n",
    "def LCK_link_suffix(split, year):\n",
    "    \n",
    "    return ('LCK ' + split + ' ' + str(year) + '/','LCK%20' + split + '%20' + str(year) + '/')\n",
    "\n",
    "LCK_split_link_list = [(\"https://gol.gg/teams/list/season-S13/split-Summer/tournament-LCK%20Summer%202023/\", 2023, \"Summer\"),\n",
    "                       (\"https://gol.gg/teams/list/season-S13/split-Spring/tournament-LCK%20Spring%202023/\", 2023, \"Spring\"),\n",
    "                       (\"https://gol.gg/teams/list/season-S12/split-ALL/tournament-LCK%20Summer%202022/\", 2022, \"Summer\"),\n",
    "                       (\"https://gol.gg/teams/list/season-S12/split-Spring/tournament-LCK%20Spring%202022/\", 2022, \"Spring\"),\n",
    "                       (\"https://gol.gg/teams/list/season-S11/split-ALL/tournament-LCK%20Summer%202021/\", 2021, \"Summer\"),\n",
    "                       (\"https://gol.gg/teams/list/season-S11/split-Spring/tournament-LCK%20Spring%202021/\", 2021, \"Spring\"),\n",
    "                       (\"https://gol.gg/teams/list/season-S10/split-ALL/tournament-LCK%20Summer%202020/\", 2020, \"Summer\"),\n",
    "                       (\"https://gol.gg/teams/list/season-S10/split-Spring/tournament-LCK%20Spring%202020/\", 2020, \"Spring\")]\n",
    "\n",
    "team_link_list = []\n",
    "\n",
    "for (link, year, split) in LCK_split_link_list:\n",
    "    html_page = firefoxPage(link)\n",
    "    soup = BeautifulSoup(html_page, features=\"lxml\")\n",
    "    for link2 in soup.find_all('a'):\n",
    "        if str(link2.get('href')).startswith(\"./team-stats/\"):\n",
    "            old, new = LCK_link_suffix(split, year)\n",
    "            team_link_list.append((str(link2.get('href')).strip('.').replace(old, new), year, split))"
   ]
  },
  {
   "cell_type": "markdown",
   "id": "fb32315b-0ad2-4260-a18b-2ac391bdedf2",
   "metadata": {},
   "source": [
    "### Obtenir les roles des joueurs"
   ]
  },
  {
   "cell_type": "code",
   "execution_count": 51,
   "id": "9282d946-1776-4f9d-bee5-09f66ecb3bf3",
   "metadata": {},
   "outputs": [],
   "source": [
    "def get_player_table(soup, team_name):\n",
    "    tables = soup.find_all('table')\n",
    "    for table in tables:\n",
    "        caption = table.find('caption')\n",
    "        if caption and caption.text.strip() == team_name + ' player\\'s stats':\n",
    "            return table\n",
    "        else:\n",
    "            continue\n",
    "    return None\n",
    "\n",
    "labels = ['Team', 'Year', 'Split','Role','Player']\n",
    "data = []\n",
    "\n",
    "for link, year, split in team_link_list:\n",
    "    link = link.strip()\n",
    "    html = firefoxPage(\"https://gol.gg/teams\" + link)\n",
    "    soup = BeautifulSoup(html, features=\"lxml\")\n",
    "\n",
    "    table = soup.find(\"table\", attrs={\"class\": \"table_list\"})\n",
    "    name = soup.find(\"h1\").text.strip()\n",
    "    rows = get_player_table(soup, name).find_all('tr')\n",
    "    \n",
    "    for row in rows:\n",
    "        tds = row.find_all('td')\n",
    "        if len(tds) >= 2:\n",
    "            stat = [name] # Team\n",
    "            stat.append(year) # Year\n",
    "            stat.append(split) # Split\n",
    "            stat.append(tds[0].text.strip())  # Role\n",
    "            stat.append(tds[1].text.strip()) # Player\n",
    "            data.append(stat)\n",
    "dfrole = pd.DataFrame(data, columns=labels)"
   ]
  },
  {
   "cell_type": "code",
   "execution_count": 52,
   "id": "1d9fd6aa-6e9b-477c-8c53-2593654dc00a",
   "metadata": {},
   "outputs": [
    {
     "name": "stdout",
     "output_type": "stream",
     "text": [
      "      Team  Year   Split     Role  Player\n",
      "0    BRION  2023  Summer      TOP  Morgan\n",
      "1    BRION  2023  Summer   JUNGLE    UmTi\n",
      "2    BRION  2023  Summer      MID   Karis\n",
      "3    BRION  2023  Summer      BOT    Hena\n",
      "4    BRION  2023  Summer  SUPPORT  Effort\n",
      "..     ...   ...     ...      ...     ...\n",
      "634     T1  2020  Spring  SUPPORT  Effort\n",
      "635     T1  2020  Spring      TOP   Roach\n",
      "636     T1  2020  Spring   JUNGLE   Ellim\n",
      "637     T1  2020  Spring      BOT  Effort\n",
      "638     T1  2020  Spring  SUPPORT   Teddy\n",
      "\n",
      "[639 rows x 5 columns]\n"
     ]
    }
   ],
   "source": [
    "print(dfrole)"
   ]
  },
  {
   "cell_type": "code",
   "execution_count": 53,
   "id": "18c53702",
   "metadata": {},
   "outputs": [],
   "source": [
    "dfrole.to_csv(\"LCK_player_role.csv\", index=False)"
   ]
  },
  {
   "cell_type": "markdown",
   "id": "031cb45e-cc84-4d65-8967-37bda30444ed",
   "metadata": {},
   "source": [
    "### Stats finaux joueurs"
   ]
  },
  {
   "cell_type": "code",
   "execution_count": 66,
   "id": "078cf2aa-db77-4fc9-8dcf-e6c5a7edc856",
   "metadata": {},
   "outputs": [],
   "source": [
    "players = pd.merge(dfrole, df, on=['Player', 'Year', 'Split'])"
   ]
  },
  {
   "cell_type": "code",
   "execution_count": 65,
   "id": "945e4cfa",
   "metadata": {},
   "outputs": [
    {
     "name": "stdout",
     "output_type": "stream",
     "text": [
      "     Player  Year   Split    Record: Win Rate: KDA:  CS per Minute:  \\\n",
      "0    Aiming  2023  Summer   34W - 6L       85%  9.1            10.5   \n",
      "1     Andil  2023  Summer   2W - 18L       10%  1.3             1.1   \n",
      "2       Bdd  2023  Summer   34W - 6L       85%  7.2             8.8   \n",
      "3     BeryL  2023  Summer  16W - 27L     37.2%  2.1             1.3   \n",
      "4     Bible  2023  Summer    8W - 5L     61.5%  2.8             1.1   \n",
      "..      ...   ...     ...        ...       ...  ...             ...   \n",
      "543   Viper  2020  Spring  16W - 29L     35.6%  3.9             9.9   \n",
      "544    Vsta  2020  Spring  13W - 22L     37.1%  3.4             8.3   \n",
      "545   Zenit  2020  Spring    1W - 4L       20%  1.6             8.0   \n",
      "546    bono  2020  Spring  24W - 17L     58.5%  4.1             5.2   \n",
      "547    kurO  2020  Spring  24W - 22L     52.2%  4.7             8.3   \n",
      "\n",
      "     Gold Per Minute: Gold%: Kill Participation:  \n",
      "0                 508    26%               75.2%  \n",
      "1                 215  12.7%               64.9%  \n",
      "2                 417  21.3%               69.9%  \n",
      "3                 232  13.5%               68.2%  \n",
      "4                 238  12.9%               67.1%  \n",
      "..                ...    ...                 ...  \n",
      "543               419  25.6%               70.3%  \n",
      "544               380  22.9%               68.8%  \n",
      "545               347    22%               56.8%  \n",
      "546               311  17.8%               76.3%  \n",
      "547               369  21.4%               71.4%  \n",
      "\n",
      "[548 rows x 10 columns]\n"
     ]
    }
   ],
   "source": [
    "print(df)"
   ]
  },
  {
   "cell_type": "code",
   "execution_count": 67,
   "id": "9f275f3c-7c0c-4dd8-9160-396f8113d6cc",
   "metadata": {},
   "outputs": [
    {
     "name": "stdout",
     "output_type": "stream",
     "text": [
      "      Team  Year   Split     Role  Player    Record: Win Rate: KDA:  \\\n",
      "0    BRION  2023  Summer      TOP  Morgan  15W - 30L     33.3%  2.1   \n",
      "1    BRION  2023  Summer   JUNGLE    UmTi  15W - 30L     33.3%  2.9   \n",
      "2    BRION  2023  Summer      MID   Karis  12W - 23L     34.3%  3.5   \n",
      "3    BRION  2023  Summer      BOT    Hena  15W - 30L     33.3%  3.3   \n",
      "4    BRION  2023  Summer  SUPPORT  Effort  15W - 30L     33.3%  2.6   \n",
      "..     ...   ...     ...      ...     ...        ...       ...  ...   \n",
      "634     T1  2020  Spring  SUPPORT   Teddy  30W - 14L     68.2%  7.1   \n",
      "635     T1  2020  Spring  SUPPORT  Effort  30W - 14L     68.2%  3.6   \n",
      "636     T1  2020  Spring      BOT  Effort  30W - 14L     68.2%  3.6   \n",
      "637     T1  2020  Spring      TOP   Roach    2W - 2L       50%  2.1   \n",
      "638     T1  2020  Spring   JUNGLE   Ellim    6W - 3L     66.7%  6.3   \n",
      "\n",
      "     CS per Minute:  Gold Per Minute: Gold%: Kill Participation:  \n",
      "0               8.9               390  22.3%                 52%  \n",
      "1               5.4               317  18.1%                 76%  \n",
      "2               9.2               398  22.6%               69.8%  \n",
      "3              10.0               425  24.4%               68.9%  \n",
      "4               1.0               226  12.9%               71.8%  \n",
      "..              ...               ...    ...                 ...  \n",
      "634            10.7               464  25.9%               74.1%  \n",
      "635             1.2               235  13.1%               69.3%  \n",
      "636             1.2               235  13.1%               69.3%  \n",
      "637             7.7               364  20.8%               53.6%  \n",
      "638             5.2               329  18.3%               80.8%  \n",
      "\n",
      "[639 rows x 12 columns]\n"
     ]
    }
   ],
   "source": [
    "print(players)"
   ]
  },
  {
   "cell_type": "markdown",
   "id": "d567e016-f12f-4203-bb02-ac07784985e3",
   "metadata": {},
   "source": [
    "### Obtenir stats equipes"
   ]
  },
  {
   "cell_type": "code",
   "execution_count": 68,
   "id": "afb3a0ae-0200-4959-ad39-ed5d0091be5b",
   "metadata": {},
   "outputs": [
    {
     "ename": "ValueError",
     "evalue": "33 columns passed, passed data had 30 columns",
     "output_type": "error",
     "traceback": [
      "\u001b[0;31m---------------------------------------------------------------------------\u001b[0m",
      "\u001b[0;31mAssertionError\u001b[0m                            Traceback (most recent call last)",
      "File \u001b[0;32m/opt/homebrew/lib/python3.10/site-packages/pandas/core/internals/construction.py:939\u001b[0m, in \u001b[0;36m_finalize_columns_and_data\u001b[0;34m(content, columns, dtype)\u001b[0m\n\u001b[1;32m    938\u001b[0m \u001b[38;5;28;01mtry\u001b[39;00m:\n\u001b[0;32m--> 939\u001b[0m     columns \u001b[38;5;241m=\u001b[39m \u001b[43m_validate_or_indexify_columns\u001b[49m\u001b[43m(\u001b[49m\u001b[43mcontents\u001b[49m\u001b[43m,\u001b[49m\u001b[43m \u001b[49m\u001b[43mcolumns\u001b[49m\u001b[43m)\u001b[49m\n\u001b[1;32m    940\u001b[0m \u001b[38;5;28;01mexcept\u001b[39;00m \u001b[38;5;167;01mAssertionError\u001b[39;00m \u001b[38;5;28;01mas\u001b[39;00m err:\n\u001b[1;32m    941\u001b[0m     \u001b[38;5;66;03m# GH#26429 do not raise user-facing AssertionError\u001b[39;00m\n",
      "File \u001b[0;32m/opt/homebrew/lib/python3.10/site-packages/pandas/core/internals/construction.py:986\u001b[0m, in \u001b[0;36m_validate_or_indexify_columns\u001b[0;34m(content, columns)\u001b[0m\n\u001b[1;32m    984\u001b[0m \u001b[38;5;28;01mif\u001b[39;00m \u001b[38;5;129;01mnot\u001b[39;00m is_mi_list \u001b[38;5;129;01mand\u001b[39;00m \u001b[38;5;28mlen\u001b[39m(columns) \u001b[38;5;241m!=\u001b[39m \u001b[38;5;28mlen\u001b[39m(content):  \u001b[38;5;66;03m# pragma: no cover\u001b[39;00m\n\u001b[1;32m    985\u001b[0m     \u001b[38;5;66;03m# caller's responsibility to check for this...\u001b[39;00m\n\u001b[0;32m--> 986\u001b[0m     \u001b[38;5;28;01mraise\u001b[39;00m \u001b[38;5;167;01mAssertionError\u001b[39;00m(\n\u001b[1;32m    987\u001b[0m         \u001b[38;5;124mf\u001b[39m\u001b[38;5;124m\"\u001b[39m\u001b[38;5;132;01m{\u001b[39;00m\u001b[38;5;28mlen\u001b[39m(columns)\u001b[38;5;132;01m}\u001b[39;00m\u001b[38;5;124m columns passed, passed data had \u001b[39m\u001b[38;5;124m\"\u001b[39m\n\u001b[1;32m    988\u001b[0m         \u001b[38;5;124mf\u001b[39m\u001b[38;5;124m\"\u001b[39m\u001b[38;5;132;01m{\u001b[39;00m\u001b[38;5;28mlen\u001b[39m(content)\u001b[38;5;132;01m}\u001b[39;00m\u001b[38;5;124m columns\u001b[39m\u001b[38;5;124m\"\u001b[39m\n\u001b[1;32m    989\u001b[0m     )\n\u001b[1;32m    990\u001b[0m \u001b[38;5;28;01mif\u001b[39;00m is_mi_list:\n\u001b[1;32m    991\u001b[0m     \u001b[38;5;66;03m# check if nested list column, length of each sub-list should be equal\u001b[39;00m\n",
      "\u001b[0;31mAssertionError\u001b[0m: 33 columns passed, passed data had 30 columns",
      "\nThe above exception was the direct cause of the following exception:\n",
      "\u001b[0;31mValueError\u001b[0m                                Traceback (most recent call last)",
      "Cell \u001b[0;32mIn [68], line 20\u001b[0m\n\u001b[1;32m     17\u001b[0m         \u001b[38;5;28;01mif\u001b[39;00m (stat \u001b[38;5;241m!=\u001b[39m []):\n\u001b[1;32m     18\u001b[0m             data\u001b[38;5;241m.\u001b[39mappend(stat)\n\u001b[0;32m---> 20\u001b[0m dfteam  \u001b[38;5;241m=\u001b[39m \u001b[43mpd\u001b[49m\u001b[38;5;241;43m.\u001b[39;49m\u001b[43mDataFrame\u001b[49m\u001b[43m(\u001b[49m\u001b[43mdata\u001b[49m\u001b[43m,\u001b[49m\u001b[43m \u001b[49m\u001b[43mcolumns\u001b[49m\u001b[38;5;241;43m=\u001b[39;49m\u001b[43mlabels\u001b[49m\u001b[43m)\u001b[49m\n",
      "File \u001b[0;32m/opt/homebrew/lib/python3.10/site-packages/pandas/core/frame.py:806\u001b[0m, in \u001b[0;36mDataFrame.__init__\u001b[0;34m(self, data, index, columns, dtype, copy)\u001b[0m\n\u001b[1;32m    804\u001b[0m     \u001b[38;5;28;01mif\u001b[39;00m columns \u001b[38;5;129;01mis\u001b[39;00m \u001b[38;5;129;01mnot\u001b[39;00m \u001b[38;5;28;01mNone\u001b[39;00m:\n\u001b[1;32m    805\u001b[0m         columns \u001b[38;5;241m=\u001b[39m ensure_index(columns)\n\u001b[0;32m--> 806\u001b[0m     arrays, columns, index \u001b[38;5;241m=\u001b[39m \u001b[43mnested_data_to_arrays\u001b[49m\u001b[43m(\u001b[49m\n\u001b[1;32m    807\u001b[0m \u001b[43m        \u001b[49m\u001b[38;5;66;43;03m# error: Argument 3 to \"nested_data_to_arrays\" has incompatible\u001b[39;49;00m\n\u001b[1;32m    808\u001b[0m \u001b[43m        \u001b[49m\u001b[38;5;66;43;03m# type \"Optional[Collection[Any]]\"; expected \"Optional[Index]\"\u001b[39;49;00m\n\u001b[1;32m    809\u001b[0m \u001b[43m        \u001b[49m\u001b[43mdata\u001b[49m\u001b[43m,\u001b[49m\n\u001b[1;32m    810\u001b[0m \u001b[43m        \u001b[49m\u001b[43mcolumns\u001b[49m\u001b[43m,\u001b[49m\n\u001b[1;32m    811\u001b[0m \u001b[43m        \u001b[49m\u001b[43mindex\u001b[49m\u001b[43m,\u001b[49m\u001b[43m  \u001b[49m\u001b[38;5;66;43;03m# type: ignore[arg-type]\u001b[39;49;00m\n\u001b[1;32m    812\u001b[0m \u001b[43m        \u001b[49m\u001b[43mdtype\u001b[49m\u001b[43m,\u001b[49m\n\u001b[1;32m    813\u001b[0m \u001b[43m    \u001b[49m\u001b[43m)\u001b[49m\n\u001b[1;32m    814\u001b[0m     mgr \u001b[38;5;241m=\u001b[39m arrays_to_mgr(\n\u001b[1;32m    815\u001b[0m         arrays,\n\u001b[1;32m    816\u001b[0m         columns,\n\u001b[0;32m   (...)\u001b[0m\n\u001b[1;32m    819\u001b[0m         typ\u001b[38;5;241m=\u001b[39mmanager,\n\u001b[1;32m    820\u001b[0m     )\n\u001b[1;32m    821\u001b[0m \u001b[38;5;28;01melse\u001b[39;00m:\n",
      "File \u001b[0;32m/opt/homebrew/lib/python3.10/site-packages/pandas/core/internals/construction.py:520\u001b[0m, in \u001b[0;36mnested_data_to_arrays\u001b[0;34m(data, columns, index, dtype)\u001b[0m\n\u001b[1;32m    517\u001b[0m \u001b[38;5;28;01mif\u001b[39;00m is_named_tuple(data[\u001b[38;5;241m0\u001b[39m]) \u001b[38;5;129;01mand\u001b[39;00m columns \u001b[38;5;129;01mis\u001b[39;00m \u001b[38;5;28;01mNone\u001b[39;00m:\n\u001b[1;32m    518\u001b[0m     columns \u001b[38;5;241m=\u001b[39m ensure_index(data[\u001b[38;5;241m0\u001b[39m]\u001b[38;5;241m.\u001b[39m_fields)\n\u001b[0;32m--> 520\u001b[0m arrays, columns \u001b[38;5;241m=\u001b[39m \u001b[43mto_arrays\u001b[49m\u001b[43m(\u001b[49m\u001b[43mdata\u001b[49m\u001b[43m,\u001b[49m\u001b[43m \u001b[49m\u001b[43mcolumns\u001b[49m\u001b[43m,\u001b[49m\u001b[43m \u001b[49m\u001b[43mdtype\u001b[49m\u001b[38;5;241;43m=\u001b[39;49m\u001b[43mdtype\u001b[49m\u001b[43m)\u001b[49m\n\u001b[1;32m    521\u001b[0m columns \u001b[38;5;241m=\u001b[39m ensure_index(columns)\n\u001b[1;32m    523\u001b[0m \u001b[38;5;28;01mif\u001b[39;00m index \u001b[38;5;129;01mis\u001b[39;00m \u001b[38;5;28;01mNone\u001b[39;00m:\n",
      "File \u001b[0;32m/opt/homebrew/lib/python3.10/site-packages/pandas/core/internals/construction.py:845\u001b[0m, in \u001b[0;36mto_arrays\u001b[0;34m(data, columns, dtype)\u001b[0m\n\u001b[1;32m    842\u001b[0m     data \u001b[38;5;241m=\u001b[39m [\u001b[38;5;28mtuple\u001b[39m(x) \u001b[38;5;28;01mfor\u001b[39;00m x \u001b[38;5;129;01min\u001b[39;00m data]\n\u001b[1;32m    843\u001b[0m     arr \u001b[38;5;241m=\u001b[39m _list_to_arrays(data)\n\u001b[0;32m--> 845\u001b[0m content, columns \u001b[38;5;241m=\u001b[39m \u001b[43m_finalize_columns_and_data\u001b[49m\u001b[43m(\u001b[49m\u001b[43marr\u001b[49m\u001b[43m,\u001b[49m\u001b[43m \u001b[49m\u001b[43mcolumns\u001b[49m\u001b[43m,\u001b[49m\u001b[43m \u001b[49m\u001b[43mdtype\u001b[49m\u001b[43m)\u001b[49m\n\u001b[1;32m    846\u001b[0m \u001b[38;5;28;01mreturn\u001b[39;00m content, columns\n",
      "File \u001b[0;32m/opt/homebrew/lib/python3.10/site-packages/pandas/core/internals/construction.py:942\u001b[0m, in \u001b[0;36m_finalize_columns_and_data\u001b[0;34m(content, columns, dtype)\u001b[0m\n\u001b[1;32m    939\u001b[0m     columns \u001b[38;5;241m=\u001b[39m _validate_or_indexify_columns(contents, columns)\n\u001b[1;32m    940\u001b[0m \u001b[38;5;28;01mexcept\u001b[39;00m \u001b[38;5;167;01mAssertionError\u001b[39;00m \u001b[38;5;28;01mas\u001b[39;00m err:\n\u001b[1;32m    941\u001b[0m     \u001b[38;5;66;03m# GH#26429 do not raise user-facing AssertionError\u001b[39;00m\n\u001b[0;32m--> 942\u001b[0m     \u001b[38;5;28;01mraise\u001b[39;00m \u001b[38;5;167;01mValueError\u001b[39;00m(err) \u001b[38;5;28;01mfrom\u001b[39;00m \u001b[38;5;21;01merr\u001b[39;00m\n\u001b[1;32m    944\u001b[0m \u001b[38;5;28;01mif\u001b[39;00m \u001b[38;5;28mlen\u001b[39m(contents) \u001b[38;5;129;01mand\u001b[39;00m contents[\u001b[38;5;241m0\u001b[39m]\u001b[38;5;241m.\u001b[39mdtype \u001b[38;5;241m==\u001b[39m np\u001b[38;5;241m.\u001b[39mobject_:\n\u001b[1;32m    945\u001b[0m     contents \u001b[38;5;241m=\u001b[39m convert_object_array(contents, dtype\u001b[38;5;241m=\u001b[39mdtype)\n",
      "\u001b[0;31mValueError\u001b[0m: 33 columns passed, passed data had 30 columns"
     ]
    }
   ],
   "source": [
    "from bs4 import BeautifulSoup\n",
    "\n",
    "data = []\n",
    "labels = None\n",
    "for (link, year, split) in LCK_split_link_list:\n",
    "    html_page = firefoxPage(link)\n",
    "    soup = BeautifulSoup(html_page, features=\"lxml\")\n",
    "    table = soup.find_all('table')[1]\n",
    "    rows = table.find_all('tr')\n",
    "    if labels == None:\n",
    "        labels = ['Year', 'Split', 'Team'] + [elem.text.strip() for elem in table.find('thead').find_all('th')]\n",
    "    for row in rows:\n",
    "        stat = [year, split]\n",
    "        tds = row.find_all('td')\n",
    "        for td in tds:\n",
    "            stat.append(td.text.strip())\n",
    "        if (stat != []):\n",
    "            data.append(stat)\n",
    "\n",
    "dfteam  = pd.DataFrame(data, columns=labels)"
   ]
  },
  {
   "cell_type": "code",
   "execution_count": 204,
   "id": "901ed135-bbdc-40b5-990f-58085c6f50f2",
   "metadata": {},
   "outputs": [
    {
     "name": "stdout",
     "output_type": "stream",
     "text": [
      "                  Name Season Region Games Win rate   K:D   GPM   GDM  \\\n",
      "0                BRION    S13     KR    45    33.3%  0.79  1749  -112   \n",
      "1            Dplus KIA    S13     KR    40    60.0%  1.23  1859    78   \n",
      "2                  DRX    S13     KR    43    37.2%  0.72  1733  -159   \n",
      "3        Gen.G eSports    S13     KR    39    82.1%  1.77  1969   275   \n",
      "4  Hanwha Life eSports    S13     KR    41    65.9%  1.27  1887    98   \n",
      "5           KT Rolster    S13     KR    41    85.4%  1.94  1957   248   \n",
      "6     Kwangdong Freecs    S13     KR    38    26.3%  0.61  1746  -164   \n",
      "7         Liiv SANDBOX    S13     KR    40    32.5%  0.82  1784  -106   \n",
      "8    Nongshim RedForce    S13     KR    43    30.2%  0.70  1739  -190   \n",
      "9                   T1    S13     KR    42    50.0%  0.97  1860    60   \n",
      "\n",
      "  Game duration Kills / game  ... TD@15  GD@15   PPG NASHPG NASH%   CSM   DPM  \\\n",
      "0         32:17          8.4  ...   0.0   -277  3.47   0.60  43.8  34.5  1848   \n",
      "1         31:38         13.1  ...   0.1    638  4.83   0.88  61.6  33.8  2308   \n",
      "2         30:40          9.7  ...   0.0  -1036  4.26   0.63  38.2  32.6  1964   \n",
      "3         29:57         14.4  ...   0.3   1232  5.51   0.92  73.4  35.7  2269   \n",
      "4         30:48         13.2  ...   0.0    407  4.41   0.88  55.0  34.9  2162   \n",
      "5         29:18         15.1  ...   0.1    933  4.22   0.83  76.3  35.0  2165   \n",
      "6         31:42          8.8  ...   0.0   -139  4.05   0.32  18.6  34.4  2095   \n",
      "7         32:28         11.5  ...  -0.2   -841  3.28   0.63  45.9  34.1  1998   \n",
      "8         30:47          9.5  ...  -0.3  -1112  3.07   0.56  32.6  33.2  1924   \n",
      "9         31:10         11.6  ...   0.0    351  4.88   0.79  55.4  34.6  2152   \n",
      "\n",
      "   WPM  VWPM  WCPM  \n",
      "0  3.5  1.47  1.87  \n",
      "1  3.6  1.46  1.65  \n",
      "2  3.4  1.42  1.72  \n",
      "3  3.3  1.10  1.75  \n",
      "4  3.6  1.62  1.58  \n",
      "5  3.4  1.37  1.54  \n",
      "6  3.4  1.49  1.58  \n",
      "7  3.8  1.70  1.77  \n",
      "8  3.8  1.66  1.67  \n",
      "9  3.5  1.45  1.67  \n",
      "\n",
      "[10 rows x 30 columns]\n"
     ]
    }
   ],
   "source": [
    "print(dfteam)"
   ]
  },
  {
   "cell_type": "code",
   "execution_count": null,
   "id": "5150c8cb-6758-4c47-8bb1-397e3d159799",
   "metadata": {},
   "outputs": [],
   "source": []
  }
 ],
 "metadata": {
  "kernelspec": {
   "display_name": "Python 3 (ipykernel)",
   "language": "python",
   "name": "python3"
  },
  "language_info": {
   "codemirror_mode": {
    "name": "ipython",
    "version": 3
   },
   "file_extension": ".py",
   "mimetype": "text/x-python",
   "name": "python",
   "nbconvert_exporter": "python",
   "pygments_lexer": "ipython3",
   "version": "3.10.13"
  }
 },
 "nbformat": 4,
 "nbformat_minor": 5
}
