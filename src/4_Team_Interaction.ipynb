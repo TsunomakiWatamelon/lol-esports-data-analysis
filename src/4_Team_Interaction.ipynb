{
 "cells": [
  {
   "cell_type": "code",
   "execution_count": 1,
   "metadata": {},
   "outputs": [],
   "source": [
    "import pandas as pd\n",
    "from sklearn.cluster import KMeans\n",
    "import numpy as np\n",
    "import plotly.express as px\n",
    "import matplotlib.pyplot as plt\n",
    "from sklearn.decomposition import PCA\n",
    "from sklearn.preprocessing import StandardScaler\n",
    "from sklearn.model_selection import train_test_split\n",
    "from sklearn.model_selection import  cross_val_score\n",
    "from sklearn.ensemble import RandomForestClassifier\n",
    "from sklearn.svm import SVC\n",
    "import sklearn.tree as tree\n",
    "from copy import deepcopy\n",
    "from analyze_tools import *"
   ]
  },
  {
   "cell_type": "code",
   "execution_count": 2,
   "metadata": {},
   "outputs": [],
   "source": [
    "untoucheddf = pd.read_csv('../data/clean_game_data.csv', index_col=0)"
   ]
  },
  {
   "cell_type": "code",
   "execution_count": 3,
   "metadata": {},
   "outputs": [],
   "source": [
    "\n",
    "df = pd.read_csv('../data/clean_game_data.csv', index_col=0).drop(columns=['Year', 'Game ID'])\n",
    "df['Victory'] = df['Victory'].astype(int)\n",
    "top_df = deepcopy(df[df['Role'] == 'TOP'].select_dtypes(include='number')).astype('float64').drop(columns=['Victory'])\n",
    "mid_df = deepcopy(df[df['Role'] == 'MID'].select_dtypes(include='number')).astype('float64').drop(columns=['Victory'])\n",
    "jg_df =  deepcopy(df[df['Role'] == 'JUNGLE'].select_dtypes(include='number')).astype('float64').drop(columns=['Victory'])\n",
    "adc_df =  deepcopy(df[df['Role'] == 'ADC'].select_dtypes(include='number')).astype('float64').drop(columns=['Victory'])\n",
    "sup_df = deepcopy(df[df['Role'] == 'SUPPORT'].select_dtypes(include='number')).astype('float64').drop(columns=['Victory'])\n",
    "\n",
    "scaler = StandardScaler()\n",
    "top_df[:] = scaler.fit_transform(top_df)\n",
    "mid_df[:] = scaler.fit_transform(mid_df)\n",
    "jg_df[:] = scaler.fit_transform(jg_df)\n",
    "adc_df[:] = scaler.fit_transform(adc_df)\n",
    "sup_df[:] = scaler.fit_transform(sup_df)\n",
    "\n",
    "pca3_mid = PCA(n_components=3)\n",
    "pca3_top = PCA(n_components=3)\n",
    "pca3_jg = PCA(n_components=3)\n",
    "pca3_adc = PCA(n_components=3)\n",
    "pca3_sup = PCA(n_components=3)\n",
    "\n",
    "pca3_mid_df = pd.DataFrame(pca3_mid.fit_transform(mid_df), columns=['PC1', 'PC2', 'PC3'])\n",
    "pca3_top_df = pd.DataFrame(pca3_top.fit_transform(top_df), columns=['PC1', 'PC2', 'PC3'])\n",
    "pca3_jg_df = pd.DataFrame(pca3_jg.fit_transform(jg_df), columns=['PC1', 'PC2', 'PC3'])\n",
    "pca3_adc_df = pd.DataFrame(pca3_adc.fit_transform(adc_df), columns=['PC1', 'PC2', 'PC3'])\n",
    "pca3_sup_df = pd.DataFrame(pca3_sup.fit_transform(sup_df), columns=['PC1', 'PC2', 'PC3'])\n",
    "\n"
   ]
  },
  {
   "cell_type": "code",
   "execution_count": 4,
   "metadata": {},
   "outputs": [
    {
     "name": "stderr",
     "output_type": "stream",
     "text": [
      "/opt/miniconda3/envs/dac/lib/python3.12/site-packages/sklearn/cluster/_kmeans.py:1412: FutureWarning: The default value of `n_init` will change from 10 to 'auto' in 1.4. Set the value of `n_init` explicitly to suppress the warning\n",
      "  super()._check_params_vs_input(X, default_n_init=10)\n"
     ]
    },
    {
     "name": "stdout",
     "output_type": "stream",
     "text": [
      "Cluster\n",
      "0    59.822485\n",
      "1    19.030579\n",
      "2    81.304168\n",
      "3    51.196172\n",
      "Name: Victory, dtype: float64\n"
     ]
    },
    {
     "name": "stderr",
     "output_type": "stream",
     "text": [
      "/opt/miniconda3/envs/dac/lib/python3.12/site-packages/sklearn/cluster/_kmeans.py:1412: FutureWarning: The default value of `n_init` will change from 10 to 'auto' in 1.4. Set the value of `n_init` explicitly to suppress the warning\n",
      "  super()._check_params_vs_input(X, default_n_init=10)\n"
     ]
    },
    {
     "name": "stdout",
     "output_type": "stream",
     "text": [
      "Cluster\n",
      "0    50.352823\n",
      "1    20.585078\n",
      "2    86.042624\n",
      "3    66.377440\n",
      "Name: Victory, dtype: float64\n"
     ]
    },
    {
     "name": "stderr",
     "output_type": "stream",
     "text": [
      "/opt/miniconda3/envs/dac/lib/python3.12/site-packages/sklearn/cluster/_kmeans.py:1412: FutureWarning: The default value of `n_init` will change from 10 to 'auto' in 1.4. Set the value of `n_init` explicitly to suppress the warning\n",
      "  super()._check_params_vs_input(X, default_n_init=10)\n"
     ]
    },
    {
     "name": "stdout",
     "output_type": "stream",
     "text": [
      "Cluster\n",
      "0    56.758212\n",
      "1    86.336543\n",
      "2    23.845224\n",
      "3    62.452399\n",
      "Name: Victory, dtype: float64\n"
     ]
    },
    {
     "name": "stderr",
     "output_type": "stream",
     "text": [
      "/opt/miniconda3/envs/dac/lib/python3.12/site-packages/sklearn/cluster/_kmeans.py:1412: FutureWarning: The default value of `n_init` will change from 10 to 'auto' in 1.4. Set the value of `n_init` explicitly to suppress the warning\n",
      "  super()._check_params_vs_input(X, default_n_init=10)\n"
     ]
    },
    {
     "name": "stdout",
     "output_type": "stream",
     "text": [
      "Cluster\n",
      "0    16.138763\n",
      "1    67.427123\n",
      "2    43.287800\n",
      "3    90.080972\n",
      "Name: Victory, dtype: float64\n"
     ]
    },
    {
     "name": "stderr",
     "output_type": "stream",
     "text": [
      "/opt/miniconda3/envs/dac/lib/python3.12/site-packages/sklearn/cluster/_kmeans.py:1412: FutureWarning: The default value of `n_init` will change from 10 to 'auto' in 1.4. Set the value of `n_init` explicitly to suppress the warning\n",
      "  super()._check_params_vs_input(X, default_n_init=10)\n"
     ]
    },
    {
     "name": "stdout",
     "output_type": "stream",
     "text": [
      "Cluster\n",
      "0    54.921191\n",
      "1    23.309241\n",
      "2    83.823529\n",
      "3    71.197411\n",
      "Name: Victory, dtype: float64\n"
     ]
    }
   ],
   "source": [
    "n_clusters = 4\n",
    "top_kmeans = KMeans(n_clusters=n_clusters,random_state=42)\n",
    "pred = top_kmeans.fit_predict(pca3_top_df)\n",
    "new_top_df = deepcopy(top_df)\n",
    "new_top_df['Cluster'] = pred\n",
    "new_top_df['Victory'] = df[df['Role'] == 'TOP']['Victory']\n",
    "print(new_top_df.groupby('Cluster').mean()['Victory'] * 100)\n",
    "\n",
    "mid_kmeans = KMeans(n_clusters=n_clusters,random_state=42)\n",
    "pred = mid_kmeans.fit_predict(pca3_mid_df)\n",
    "new_mid_df = deepcopy(mid_df)\n",
    "new_mid_df['Cluster'] = pred\n",
    "new_mid_df['Victory'] = df[df['Role'] == 'MID']['Victory']\n",
    "print(new_mid_df.groupby('Cluster').mean()['Victory'] * 100)\n",
    "\n",
    "jg_kmeans = KMeans(n_clusters=n_clusters,random_state=42)\n",
    "pred = jg_kmeans.fit_predict(pca3_jg_df)\n",
    "new_jg_df = deepcopy(jg_df)\n",
    "new_jg_df['Cluster'] = pred\n",
    "new_jg_df['Victory'] = df[df['Role'] == 'JUNGLE']['Victory']\n",
    "print(new_jg_df.groupby('Cluster').mean()['Victory'] * 100)\n",
    "\n",
    "adc_kmeans = KMeans(n_clusters=n_clusters,random_state=42)\n",
    "pred = adc_kmeans.fit_predict(pca3_adc_df)\n",
    "new_adc_df = deepcopy(adc_df)\n",
    "new_adc_df['Cluster'] = pred\n",
    "new_adc_df['Victory'] = df[df['Role'] == 'ADC']['Victory']\n",
    "print(new_adc_df.groupby('Cluster').mean()['Victory'] * 100)\n",
    "\n",
    "sup_kmeans = KMeans(n_clusters=n_clusters,random_state=42)\n",
    "pred = sup_kmeans.fit_predict(pca3_sup_df)\n",
    "new_sup_df = deepcopy(sup_df)\n",
    "new_sup_df['Cluster'] = pred\n",
    "new_sup_df['Victory'] = df[df['Role'] == 'SUPPORT']['Victory']\n",
    "print(new_sup_df.groupby('Cluster').mean()['Victory'] * 100)\n"
   ]
  },
  {
   "cell_type": "code",
   "execution_count": 5,
   "metadata": {},
   "outputs": [],
   "source": [
    "# Assigning the cluster to the original dataframe for each player for each role in each game\n",
    "\n",
    "clusterdf = pd.read_csv('../data/clean_game_data.csv', index_col=0)\n",
    "clusterdf['Cluster'] = -1\n",
    "clusterdf.loc[df['Role'] == 'TOP', 'Cluster'] = top_kmeans.predict(pca3_top_df)\n",
    "clusterdf.loc[df['Role'] == 'MID', 'Cluster'] = mid_kmeans.predict(pca3_mid_df)\n",
    "clusterdf.loc[df['Role'] == 'JUNGLE', 'Cluster'] = jg_kmeans.predict(pca3_jg_df)\n",
    "clusterdf.loc[df['Role'] == 'ADC', 'Cluster'] = adc_kmeans.predict(pca3_adc_df)\n",
    "clusterdf.loc[df['Role'] == 'SUPPORT', 'Cluster'] = sup_kmeans.predict(pca3_sup_df)"
   ]
  },
  {
   "cell_type": "code",
   "execution_count": 6,
   "metadata": {},
   "outputs": [
    {
     "name": "stdout",
     "output_type": "stream",
     "text": [
      "Top SVM: 0.9681077780759647\n",
      "Mid SVM: 0.9650786041029944\n",
      "Jg SVM: 0.9682387487265537\n",
      "Adc SVM: 0.964681262772461\n",
      "Sup SVM: 0.9753551970943274\n"
     ]
    }
   ],
   "source": [
    "# Learning a model for each role\n",
    "\n",
    "X_top = new_top_df.drop(columns=['Victory', 'Cluster'])\n",
    "y_top = new_top_df['Cluster']\n",
    "X_train_top, X_test_top, y_train_top, y_test_top = train_test_split(X_top, y_top, test_size=0.2, random_state=42)\n",
    "svm_top = SVC()\n",
    "svm_top.fit(X_train_top, y_train_top)\n",
    "print('Top SVM:', cross_val_score(svm_top, X_train_top, y_train_top, cv=5).mean())\n",
    "\n",
    "X_mid = new_mid_df.drop(columns=['Victory', 'Cluster'])\n",
    "y_mid = new_mid_df['Cluster']\n",
    "X_train_mid, X_test_mid, y_train_mid, y_test_mid = train_test_split(X_mid, y_mid, test_size=0.2, random_state=42)\n",
    "svm_mid = SVC()\n",
    "svm_mid.fit(X_train_mid, y_train_mid)\n",
    "print('Mid SVM:', cross_val_score(svm_mid, X_train_mid, y_train_mid, cv=5).mean())\n",
    "\n",
    "X_jg = new_jg_df.drop(columns=['Victory', 'Cluster'])\n",
    "y_jg = new_jg_df['Cluster']\n",
    "X_train_jg, X_test_jg, y_train_jg, y_test_jg = train_test_split(X_jg, y_jg, test_size=0.2, random_state=42)\n",
    "svm_jg = SVC()\n",
    "svm_jg.fit(X_train_jg, y_train_jg)\n",
    "print('Jg SVM:', cross_val_score(svm_jg, X_train_jg, y_train_jg, cv=5).mean())\n",
    "\n",
    "X_adc = new_adc_df.drop(columns=['Victory', 'Cluster'])\n",
    "y_adc = new_adc_df['Cluster']\n",
    "X_train_adc, X_test_adc, y_train_adc, y_test_adc = train_test_split(X_adc, y_adc, test_size=0.2, random_state=42)\n",
    "svm_adc = SVC()\n",
    "svm_adc.fit(X_train_adc, y_train_adc)\n",
    "print('Adc SVM:', cross_val_score(svm_adc, X_train_adc, y_train_adc, cv=5).mean())\n",
    "\n",
    "X_sup = new_sup_df.drop(columns=['Victory', 'Cluster'])\n",
    "y_sup = new_sup_df['Cluster']\n",
    "X_train_sup, X_test_sup, y_train_sup, y_test_sup = train_test_split(X_sup, y_sup, test_size=0.2, random_state=42)\n",
    "svm_sup = SVC()\n",
    "svm_sup.fit(X_train_sup, y_train_sup)\n",
    "print('Sup SVM:', cross_val_score(svm_sup, X_train_sup, y_train_sup, cv=5).mean())"
   ]
  },
  {
   "cell_type": "markdown",
   "metadata": {},
   "source": [
    "Learning cluster interation, distribution for each team comp."
   ]
  },
  {
   "cell_type": "code",
   "execution_count": 7,
   "metadata": {},
   "outputs": [],
   "source": [
    "\n",
    "x = np.zeros((len(clusterdf['Game ID'].unique()), 10))\n",
    "y = np.zeros(len(clusterdf['Game ID'].unique()))\n",
    "\n",
    "np.random.seed(42)\n",
    "for i, gameid in enumerate(clusterdf['Game ID'].unique()):\n",
    "    game = clusterdf[clusterdf['Game ID'] == gameid]\n",
    "    if len(game) != 10:\n",
    "        raise ValueError('Game with id {} has {} players'.format(gameid, len(game)))\n",
    "    \n",
    "    top_blue = game[(game['Role'] == 'TOP') & (game['Side'] == 'Blue Side')]['Cluster'].values[0]\n",
    "    mid_blue = game[(game['Role'] == 'MID') & (game['Side'] == 'Blue Side')]['Cluster'].values[0]\n",
    "    jg_blue = game[(game['Role'] == 'JUNGLE') & (game['Side'] == 'Blue Side')]['Cluster'].values[0]\n",
    "    adc_blue = game[(game['Role'] == 'ADC') & (game['Side'] == 'Blue Side')]['Cluster'].values[0]\n",
    "    sup_blue = game[(game['Role'] == 'SUPPORT') & (game['Side'] == 'Blue Side')]['Cluster'].values[0]\n",
    "\n",
    "    top_red = game[(game['Role'] == 'TOP') & (game['Side'] == 'Red Side')]['Cluster'].values[0]\n",
    "    mid_red = game[(game['Role'] == 'MID') & (game['Side'] == 'Red Side')]['Cluster'].values[0]\n",
    "    jg_red = game[(game['Role'] == 'JUNGLE') & (game['Side'] == 'Red Side')]['Cluster'].values[0]\n",
    "    adc_red = game[(game['Role'] == 'ADC') & (game['Side'] == 'Red Side')]['Cluster'].values[0]\n",
    "    sup_red = game[(game['Role'] == 'SUPPORT') & (game['Side'] == 'Red Side')]['Cluster'].values[0]\n",
    "\n",
    "    # Formating into a vector of cluster attribution for each player in the game and the result of the game\n",
    "    result = game[(game['Role'] == 'TOP') & (game['Side'] == 'Blue Side')]['Victory'].values[0].astype(int)\n",
    "    # Randomizing the side attribution\n",
    "    if np.random.rand() > 0.5:\n",
    "        vector = np.array([top_red, mid_red, jg_red, adc_red, sup_red, top_blue, mid_blue, jg_blue, adc_blue, sup_blue])\n",
    "        result = 1 - result\n",
    "    else:\n",
    "        vector = np.array([top_blue, mid_blue, jg_blue, adc_blue, sup_blue, top_red, mid_red, jg_red, adc_red, sup_red])\n",
    "    x[i] = vector\n",
    "    y[i] = result\n",
    "\n",
    "    "
   ]
  },
  {
   "cell_type": "code",
   "execution_count": 8,
   "metadata": {},
   "outputs": [
    {
     "name": "stdout",
     "output_type": "stream",
     "text": [
      "Random Forest Classifier\n",
      "Train score: 0.9849762783342119\n",
      "Test score: 0.8925184404636459\n",
      "Cross validation score: 0.8973251879615673\n"
     ]
    }
   ],
   "source": [
    "# Learning a model to predict the result of the game based on the cluster attribution of the players\n",
    "\n",
    "x_train, x_test, y_train, y_test = train_test_split(x, y, test_size=0.2, random_state=42)\n",
    "clf = RandomForestClassifier(random_state=42)\n",
    "clf.fit(x_train, y_train)\n",
    "print('Random Forest Classifier')\n",
    "print('Train score:', clf.score(x_train, y_train))\n",
    "print('Test score:', clf.score(x_test, y_test))\n",
    "print('Cross validation score:', cross_val_score(clf, x, y).mean())\n"
   ]
  },
  {
   "cell_type": "code",
   "execution_count": 9,
   "metadata": {},
   "outputs": [
    {
     "name": "stderr",
     "output_type": "stream",
     "text": [
      "/opt/miniconda3/envs/dac/lib/python3.12/site-packages/sklearn/base.py:464: UserWarning: X does not have valid feature names, but SVC was fitted with feature names\n",
      "  warnings.warn(\n",
      "/opt/miniconda3/envs/dac/lib/python3.12/site-packages/sklearn/base.py:464: UserWarning: X does not have valid feature names, but SVC was fitted with feature names\n",
      "  warnings.warn(\n",
      "/opt/miniconda3/envs/dac/lib/python3.12/site-packages/sklearn/base.py:464: UserWarning: X does not have valid feature names, but SVC was fitted with feature names\n",
      "  warnings.warn(\n",
      "/opt/miniconda3/envs/dac/lib/python3.12/site-packages/sklearn/base.py:464: UserWarning: X does not have valid feature names, but SVC was fitted with feature names\n",
      "  warnings.warn(\n",
      "/opt/miniconda3/envs/dac/lib/python3.12/site-packages/sklearn/base.py:464: UserWarning: X does not have valid feature names, but SVC was fitted with feature names\n",
      "  warnings.warn(\n"
     ]
    }
   ],
   "source": [
    "# Test on 2024 data\n",
    "\n",
    "df2024 = pd.read_csv('../data/game_data2024.csv', index_col=0)\n",
    "# Harmonizing columns with the previous dataframe (has possibly more unknown columns)\n",
    "df2024 = df2024[untoucheddf.columns]\n",
    "df2024predict = df2024.drop(columns=['Year', 'Game ID'])\n",
    "\n",
    "df2024['Cluster'] = -1\n",
    "\n",
    "# Using SVM learned models to predict the cluster of each player\n",
    "\n",
    "df2024.loc[df2024['Role'] == 'TOP', 'Cluster'] = svm_top.predict(scaler.transform(df2024predict[df2024['Role'] == 'TOP'].select_dtypes(include='number')))\n",
    "df2024.loc[df2024['Role'] == 'MID', 'Cluster'] = svm_mid.predict(scaler.transform(df2024predict[df2024['Role'] == 'MID'].select_dtypes(include='number')))\n",
    "df2024.loc[df2024['Role'] == 'JUNGLE', 'Cluster'] = svm_jg.predict(scaler.transform(df2024predict[df2024['Role'] == 'JUNGLE'].select_dtypes(include='number')))\n",
    "df2024.loc[df2024['Role'] == 'ADC', 'Cluster'] = svm_adc.predict(scaler.transform(df2024predict[df2024['Role'] == 'ADC'].select_dtypes(include='number')))\n",
    "df2024.loc[df2024['Role'] == 'SUPPORT', 'Cluster'] = svm_sup.predict(scaler.transform(df2024predict[df2024['Role'] == 'SUPPORT'].select_dtypes(include='number')))\n",
    "\n",
    "#df2024\n"
   ]
  },
  {
   "cell_type": "code",
   "execution_count": 10,
   "metadata": {},
   "outputs": [],
   "source": [
    "# Creating the input vector for 2024 data (to test the model)\n",
    "\n",
    "x2024 = np.zeros((len(df2024['Game ID'].unique()), 10))\n",
    "y2024 = np.zeros(len(df2024['Game ID'].unique()))\n",
    "\n",
    "for i, gameid in enumerate(df2024['Game ID'].unique()):\n",
    "    game = df2024[df2024['Game ID'] == gameid]\n",
    "    if len(game) != 10:\n",
    "        raise ValueError('Game with id {} has {} players'.format(gameid, len(game)))\n",
    "    \n",
    "    top_blue = game[(game['Role'] == 'TOP') & (game['Side'] == 'Blue Side')]['Cluster'].values[0]\n",
    "    mid_blue = game[(game['Role'] == 'MID') & (game['Side'] == 'Blue Side')]['Cluster'].values[0]\n",
    "    jg_blue = game[(game['Role'] == 'JUNGLE') & (game['Side'] == 'Blue Side')]['Cluster'].values[0]\n",
    "    adc_blue = game[(game['Role'] == 'ADC') & (game['Side'] == 'Blue Side')]['Cluster'].values[0]\n",
    "    sup_blue = game[(game['Role'] == 'SUPPORT') & (game['Side'] == 'Blue Side')]['Cluster'].values[0]\n",
    "\n",
    "    top_red = game[(game['Role'] == 'TOP') & (game['Side'] == 'Red Side')]['Cluster'].values[0]\n",
    "    mid_red = game[(game['Role'] == 'MID') & (game['Side'] == 'Red Side')]['Cluster'].values[0]\n",
    "    jg_red = game[(game['Role'] == 'JUNGLE') & (game['Side'] == 'Red Side')]['Cluster'].values[0]\n",
    "    adc_red = game[(game['Role'] == 'ADC') & (game['Side'] == 'Red Side')]['Cluster'].values[0]\n",
    "    sup_red = game[(game['Role'] == 'SUPPORT') & (game['Side'] == 'Red Side')]['Cluster'].values[0]\n",
    "\n",
    "    result = game[(game['Role'] == 'TOP') & (game['Side'] == 'Blue Side')]['Victory'].values[0].astype(int)\n",
    "    vector = np.array([top_blue, mid_blue, jg_blue, adc_blue, sup_blue, top_red, mid_red, jg_red, adc_red, sup_red])\n",
    "    x2024[i] = vector\n",
    "    y2024[i] = result\n"
   ]
  },
  {
   "cell_type": "code",
   "execution_count": 11,
   "metadata": {},
   "outputs": [
    {
     "name": "stdout",
     "output_type": "stream",
     "text": [
      "Random Forest Classifier\n",
      "Test score: 0.4203187250996016\n",
      "SVM\n",
      "Test score: 0.4820717131474104\n",
      "Logistic Regression\n",
      "Test score: 0.6673306772908366\n"
     ]
    }
   ],
   "source": [
    "from sklearn.linear_model import LogisticRegression\n",
    "\n",
    "clf = RandomForestClassifier(random_state=42)\n",
    "clf.fit(x, y)\n",
    "\n",
    "clf_svm = SVC()\n",
    "clf_svm.fit(x, y)\n",
    "\n",
    "clf_log = LogisticRegression()\n",
    "clf_log.fit(x, y)\n",
    "\n",
    "print('Random Forest Classifier')\n",
    "print('Test score:', clf.score(x2024, y2024))\n",
    "\n",
    "print('SVM')\n",
    "print('Test score:', clf_svm.score(x2024, y2024))\n",
    "\n",
    "print('Logistic Regression')\n",
    "print('Test score:', clf_log.score(x2024, y2024))"
   ]
  },
  {
   "cell_type": "code",
   "execution_count": 13,
   "metadata": {},
   "outputs": [
    {
     "name": "stdout",
     "output_type": "stream",
     "text": [
      "Role: 0\n",
      "Cluster: 2 Count: 1970\n",
      "Clusters: [1011, 585, 1970, 1177]\n",
      "\n",
      "Role: 1\n",
      "Cluster: 2 Count: 2059\n",
      "Clusters: [999, 767, 2059, 918]\n",
      "\n",
      "Role: 2\n",
      "Cluster: 1 Count: 1883\n",
      "Clusters: [1054, 1883, 986, 820]\n",
      "\n",
      "Role: 3\n",
      "Cluster: 3 Count: 2225\n",
      "Clusters: [535, 1064, 919, 2225]\n",
      "\n",
      "Role: 4\n",
      "Cluster: 2 Count: 2052\n",
      "Clusters: [1568, 903, 2052, 220]\n",
      "\n"
     ]
    }
   ],
   "source": [
    "# Enumerer les clusters les plus reccurent dans les victoires pour chaque role en prenant l'ensemble des parties\n",
    "\n",
    "role_clusters_count = [0, 0, 0, 0]\n",
    "all_clusters_count = [role_clusters_count.copy() for _ in range(5)]\n",
    "\n",
    "for game, result in (zip(x, y)):\n",
    "    if result == 1: # Blue win, on compte seulement les blue\n",
    "        for i, cluster in enumerate(game[:5]):\n",
    "            all_clusters_count[i][int(cluster)] += 1\n",
    "    else:\n",
    "        for i, cluster in enumerate(game[5:]):\n",
    "            all_clusters_count[i][int(cluster)] += 1\n",
    "\n",
    "# Recherche du cluster le plus reccurent parmis tous\n",
    "\n",
    "for i, role_clusters in enumerate(all_clusters_count):\n",
    "    print('Role:', i)\n",
    "    print('Cluster:', role_clusters.index(max(role_clusters)), 'Count:', max(role_clusters))\n",
    "    print('Clusters:', role_clusters)\n",
    "    print()"
   ]
  },
  {
   "cell_type": "code",
   "execution_count": null,
   "metadata": {},
   "outputs": [],
   "source": []
  }
 ],
 "metadata": {
  "kernelspec": {
   "display_name": "Python 3",
   "language": "python",
   "name": "python3"
  },
  "language_info": {
   "codemirror_mode": {
    "name": "ipython",
    "version": 3
   },
   "file_extension": ".py",
   "mimetype": "text/x-python",
   "name": "python",
   "nbconvert_exporter": "python",
   "pygments_lexer": "ipython3",
   "version": "3.12.2"
  }
 },
 "nbformat": 4,
 "nbformat_minor": 2
}
