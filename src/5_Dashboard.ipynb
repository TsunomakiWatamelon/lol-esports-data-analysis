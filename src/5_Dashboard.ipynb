{
 "cells": [
  {
   "cell_type": "code",
   "execution_count": 1,
   "metadata": {
    "ExecuteTime": {
     "end_time": "2024-05-23T23:20:31.820667900Z",
     "start_time": "2024-05-23T23:20:31.386990500Z"
    }
   },
   "outputs": [],
   "source": [
    "# Dashboard datascience\n",
    "from dash import Dash, html, dcc, callback, Output, Input\n",
    "import plotly.express as px\n",
    "import pandas as pd\n",
    "\n",
    "import dash_bootstrap_components as dbc\n"
   ]
  },
  {
   "cell_type": "code",
   "execution_count": 38,
   "outputs": [],
   "source": [
    "df = pd.read_csv('../data/clean_game_data.csv', index_col=0)\n",
    "cleandf = df.select_dtypes(include='number').drop(columns=['Year', 'Game ID']).drop(columns=['Game Duration'])\n",
    "\n",
    "supdf = df[df['Role'] == 'SUPPORT']\n",
    "nonsupdf = df[df['Role'] != 'SUPPORT']\n",
    "\n",
    "elo_df = pd.read_csv('../data/elo_evolution.csv')\n",
    "\n",
    "elo_df['Game ID'] = range(len(elo_df))\n",
    "elo_df = elo_df.set_index('Game ID')\n",
    "\n",
    "top_elo = elo_df.iloc[-1].sort_values(ascending=False).head(10)\n",
    "\n",
    "top_elo_df = elo_df[top_elo.index]\n"
   ],
   "metadata": {
    "collapsed": false,
    "ExecuteTime": {
     "end_time": "2024-05-24T00:11:04.799474400Z",
     "start_time": "2024-05-24T00:11:04.362291700Z"
    }
   }
  },
  {
   "cell_type": "code",
   "execution_count": 45,
   "metadata": {
    "ExecuteTime": {
     "end_time": "2024-05-24T00:17:57.189719500Z",
     "start_time": "2024-05-24T00:17:56.116613800Z"
    }
   },
   "outputs": [
    {
     "data": {
      "text/plain": "<IPython.lib.display.IFrame at 0x2434ee7bca0>",
      "text/html": "\n        <iframe\n            width=\"100%\"\n            height=\"650\"\n            src=\"http://127.0.0.1:8050/\"\n            frameborder=\"0\"\n            allowfullscreen\n            \n        ></iframe>\n        "
     },
     "metadata": {},
     "output_type": "display_data"
    }
   ],
   "source": [
    "\n",
    "\n",
    "\n",
    "external_stylesheets = ['https://codepen.io/chriddyp/pen/bWLwgP.css']\n",
    "\n",
    "\n",
    "\n",
    "app = Dash(__name__, external_stylesheets=[dbc.themes.PULSE])\n",
    "\n",
    "app.layout = dbc.Container([\n",
    "    dbc.Row([\n",
    "        html.H1(\"LOL Esports Analyse\"),\n",
    "        html.Hr(),\n",
    "    ]),\n",
    "    \n",
    "    dbc.Row([\n",
    "        dcc.RadioItems(options=['Mono-variate analysis', 'Bivariate analysis'], value='Mono-variate analysis', id='control_radio_items'),\n",
    "        html.Hr()\n",
    "    ]),\n",
    "    \n",
    "    dbc.Row([html.Div(id='EDA-analysis-Container')]),\n",
    "    \n",
    "    \n",
    "    dbc.Row([\n",
    "        dcc.Graph(id='ELO', figure=px.line(elo_df, title='ELO evolution', labels={'index':'Game ID', 'value':'ELO'}))\n",
    "    ])\n",
    "    \n",
    "    \n",
    "    \n",
    "    \n",
    "], fluid=True)\n",
    "\n",
    "@callback(\n",
    "    Output('graph-content-universal', 'figure'),\n",
    "    Input('dropdown-selection-universal', 'value')\n",
    ")\n",
    "def update_graph(value):\n",
    "    return px.histogram(cleandf, x=value)\n",
    "\n",
    "@callback(\n",
    "    Output('graph-content-sup-nonsup', 'figure'),\n",
    "    Input('dropdown-selection-sup-nonsup', 'value')\n",
    ")\n",
    "def update_graph(value):\n",
    "    fig = px.histogram(supdf[value], x=value, title=f'{value} Distribution Support vs Non-support',  color_discrete_sequence=['blue'], opacity=0.5, labels={value:f'{value} for support'})\n",
    "    fig.add_trace(px.histogram(nonsupdf[value], x=value, color_discrete_sequence=['purple'], labels={value:f'{value} for non support'}, opacity = 0.5).data[0])\n",
    "    fig.update_layout(barmode='overlay', xaxis_title=value, yaxis_title='Count', showlegend=True)\n",
    "    return fig\n",
    "\n",
    "@callback(\n",
    "    Output('bi-var', 'figure'),\n",
    "    Input('dropdown-selection-first-var', 'value'),\n",
    "    Input('dropdown-selection-second-var', 'value'),\n",
    ")\n",
    "\n",
    "def update_graph(x, y):\n",
    "    return px.scatter(cleandf, x=x, y=y, title=f'{x} vs {y}')\n",
    "\n",
    "@callback(\n",
    "    Output('EDA-analysis-Container', 'children'),\n",
    "    Input('control_radio_items', 'value')\n",
    ")\n",
    "def update_EDA_analysis(value):\n",
    "    if value == 'Mono-variate analysis':\n",
    "        return dbc.Row([\n",
    "        dbc.Col([\n",
    "            html.H3('Univariate analysis'),\n",
    "            dcc.Dropdown(cleandf.columns, 'Kills', id='dropdown-selection-universal'),\n",
    "            dcc.Graph(id='graph-content-universal')\n",
    "        ], width=5),\n",
    "        \n",
    "        dbc.Col([], width=2),\n",
    "        \n",
    "        dbc.Col([\n",
    "            html.H3('Sup vs. NonSup analysis'),\n",
    "            dcc.Dropdown(cleandf.columns, 'Kills', id='dropdown-selection-sup-nonsup'),\n",
    "            dcc.Graph(id='graph-content-sup-nonsup')\n",
    "        ], width=5),\n",
    "        html.Hr()\n",
    "    ])\n",
    "    \n",
    "    elif value == 'Bivariate analysis':\n",
    "        return (dbc.Row([\n",
    "                html.H3('Bivariate analysis'),\n",
    "            ]),\n",
    "    \n",
    "        dbc.Row([\n",
    "            dbc.Col([\n",
    "                dcc.Dropdown(cleandf.columns, 'Golds', id='dropdown-selection-first-var'),\n",
    "            ],width=3),\n",
    "            \n",
    "            dbc.Col([\n",
    "                dcc.Dropdown(cleandf.columns, 'Kills', id='dropdown-selection-second-var'),\n",
    "            ],width=3),\n",
    "            \n",
    "        ], justify='center'),\n",
    "        \n",
    "        dbc.Row([\n",
    "            dbc.Col([\n",
    "                dcc.Graph(id='bi-var')\n",
    "            ], width=6)\n",
    "        ],justify='center'))\n",
    "\n",
    "if __name__ == '__main__':\n",
    "    app.run(debug=True)"
   ]
  },
  {
   "cell_type": "code",
   "execution_count": null,
   "outputs": [],
   "source": [],
   "metadata": {
    "collapsed": false
   }
  }
 ],
 "metadata": {
  "kernelspec": {
   "display_name": "dac",
   "language": "python",
   "name": "python3"
  },
  "language_info": {
   "codemirror_mode": {
    "name": "ipython",
    "version": 3
   },
   "file_extension": ".py",
   "mimetype": "text/x-python",
   "name": "python",
   "nbconvert_exporter": "python",
   "pygments_lexer": "ipython3",
   "version": "3.12.2"
  }
 },
 "nbformat": 4,
 "nbformat_minor": 2
}
