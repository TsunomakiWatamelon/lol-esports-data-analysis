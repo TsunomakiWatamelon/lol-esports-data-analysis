{
 "cells": [
  {
   "cell_type": "code",
   "execution_count": 1,
   "metadata": {
    "ExecuteTime": {
     "end_time": "2024-05-24T01:57:56.838632500Z",
     "start_time": "2024-05-24T01:57:56.355839700Z"
    }
   },
   "outputs": [],
   "source": [
    "# Dashboard datascience\n",
    "from dash import Dash, html, dcc, callback, Output, Input\n",
    "import plotly.express as px\n",
    "import pandas as pd\n",
    "\n",
    "import dash_bootstrap_components as dbc\n"
   ]
  },
  {
   "cell_type": "code",
   "execution_count": 24,
   "outputs": [
    {
     "data": {
      "text/plain": "        Player  Aggregate Score\n50   Hylissang         1.021711\n92      Soboro         1.111830\n105    Ventair         1.169843\n38         Fly         1.175639\n118     apaMEN         1.222642\n..         ...              ...\n114       Zeus         2.163242\n3         Adam         2.178558\n20       Chasy         2.200792\n57        Khan         2.221947\n70      Nuguri         2.304688\n\n[127 rows x 2 columns]",
      "text/html": "<div>\n<style scoped>\n    .dataframe tbody tr th:only-of-type {\n        vertical-align: middle;\n    }\n\n    .dataframe tbody tr th {\n        vertical-align: top;\n    }\n\n    .dataframe thead th {\n        text-align: right;\n    }\n</style>\n<table border=\"1\" class=\"dataframe\">\n  <thead>\n    <tr style=\"text-align: right;\">\n      <th></th>\n      <th>Player</th>\n      <th>Aggregate Score</th>\n    </tr>\n  </thead>\n  <tbody>\n    <tr>\n      <th>50</th>\n      <td>Hylissang</td>\n      <td>1.021711</td>\n    </tr>\n    <tr>\n      <th>92</th>\n      <td>Soboro</td>\n      <td>1.111830</td>\n    </tr>\n    <tr>\n      <th>105</th>\n      <td>Ventair</td>\n      <td>1.169843</td>\n    </tr>\n    <tr>\n      <th>38</th>\n      <td>Fly</td>\n      <td>1.175639</td>\n    </tr>\n    <tr>\n      <th>118</th>\n      <td>apaMEN</td>\n      <td>1.222642</td>\n    </tr>\n    <tr>\n      <th>...</th>\n      <td>...</td>\n      <td>...</td>\n    </tr>\n    <tr>\n      <th>114</th>\n      <td>Zeus</td>\n      <td>2.163242</td>\n    </tr>\n    <tr>\n      <th>3</th>\n      <td>Adam</td>\n      <td>2.178558</td>\n    </tr>\n    <tr>\n      <th>20</th>\n      <td>Chasy</td>\n      <td>2.200792</td>\n    </tr>\n    <tr>\n      <th>57</th>\n      <td>Khan</td>\n      <td>2.221947</td>\n    </tr>\n    <tr>\n      <th>70</th>\n      <td>Nuguri</td>\n      <td>2.304688</td>\n    </tr>\n  </tbody>\n</table>\n<p>127 rows × 2 columns</p>\n</div>"
     },
     "execution_count": 24,
     "metadata": {},
     "output_type": "execute_result"
    }
   ],
   "source": [
    "df = pd.read_csv('../data/clean_game_data.csv', index_col=0)\n",
    "cleandf = df.select_dtypes(include='number').drop(columns=['Year', 'Game ID']).drop(columns=['Game Duration'])\n",
    "\n",
    "supdf = df[df['Role'] == 'SUPPORT']\n",
    "nonsupdf = df[df['Role'] != 'SUPPORT']\n",
    "\n",
    "elo_df = pd.read_csv('../data/elo_evolution.csv')\n",
    "\n",
    "elo_df['Game ID'] = range(len(elo_df))\n",
    "elo_df = elo_df.set_index('Game ID')\n",
    "\n",
    "top_elo = elo_df.iloc[-1].sort_values(ascending=False).head(10)\n",
    "\n",
    "top_elo_df = elo_df[top_elo.index]\n",
    "\n",
    "player_scores = pd.read_csv('../data/player_score.csv', index_col=0)"
   ],
   "metadata": {
    "collapsed": false,
    "ExecuteTime": {
     "end_time": "2024-05-24T02:22:39.178332100Z",
     "start_time": "2024-05-24T02:22:38.901433700Z"
    }
   }
  },
  {
   "cell_type": "code",
   "execution_count": 39,
   "metadata": {
    "ExecuteTime": {
     "end_time": "2024-05-24T02:38:24.469453Z",
     "start_time": "2024-05-24T02:38:24.163849400Z"
    }
   },
   "outputs": [
    {
     "data": {
      "text/plain": "<IPython.lib.display.IFrame at 0x1f5255a9ba0>",
      "text/html": "\n        <iframe\n            width=\"100%\"\n            height=\"650\"\n            src=\"http://127.0.0.1:8050/\"\n            frameborder=\"0\"\n            allowfullscreen\n            \n        ></iframe>\n        "
     },
     "metadata": {},
     "output_type": "display_data"
    }
   ],
   "source": [
    "\n",
    "\n",
    "\n",
    "external_stylesheets = ['https://codepen.io/chriddyp/pen/bWLwgP.css']\n",
    "\n",
    "\n",
    "\n",
    "app = Dash(__name__, external_stylesheets=[dbc.themes.PULSE])\n",
    "\n",
    "app.layout = dbc.Container([\n",
    "    dbc.Row([\n",
    "        html.H1(\"LOL Esports Analyse\"),\n",
    "        html.Hr(),\n",
    "    ]),\n",
    "    \n",
    "    dbc.Row([\n",
    "        dcc.RadioItems(options=['Mono-variate analysis', 'Bivariate analysis'], value='Mono-variate analysis', id='control_radio_items'),\n",
    "        html.Hr()\n",
    "    ]),\n",
    "    \n",
    "    dbc.Row([html.Div(id='EDA-analysis-Container')]),\n",
    "    \n",
    "    \n",
    "    dbc.Row([\n",
    "        dcc.Graph(id='ELO', figure=px.line(top_elo_df, title='Top 10 team elo evolution', labels={'value': 'Elo rating', 'index': 'Game ID'}))\n",
    "    ]),\n",
    "    \n",
    "    dbc.Row([\n",
    "        html.H3('Top 10 Player Score'),\n",
    "        html.Hr(),\n",
    "        dbc.Col([\n",
    "                dcc.Dropdown(player_scores['Role'], 'TOP', id='role'),\n",
    "            ],width=3),\n",
    "            \n",
    "            dbc.Col([\n",
    "                dcc.Dropdown(['Aggregate Score', 'Agression Score', 'Setup Score', 'Economy Score', 'Early Game Score'], 'Aggregate Score', id='score-type'),\n",
    "            ],width=3),\n",
    "    ], justify='center'),\n",
    "    \n",
    "    dbc.Row([\n",
    "            dbc.Col([\n",
    "                dcc.Graph(id='score')\n",
    "            ], width=6)\n",
    "        ],justify='center')\n",
    "    \n",
    "    \n",
    "    \n",
    "    \n",
    "], fluid=True)\n",
    "\n",
    "@callback(\n",
    "    Output('graph-content-universal', 'figure'),\n",
    "    Input('dropdown-selection-universal', 'value')\n",
    ")\n",
    "def update_graph(value):\n",
    "    return px.histogram(cleandf, x=value)\n",
    "\n",
    "@callback(\n",
    "    Output('graph-content-sup-nonsup', 'figure'),\n",
    "    Input('dropdown-selection-sup-nonsup', 'value')\n",
    ")\n",
    "def update_graph(value):\n",
    "    fig = px.histogram(supdf[value], x=value, title=f'{value} Distribution Support vs Non-support',  color_discrete_sequence=['blue'], opacity=0.5, labels={value:f'{value} for support'})\n",
    "    fig.add_trace(px.histogram(nonsupdf[value], x=value, color_discrete_sequence=['purple'], labels={value:f'{value} for non support'}, opacity = 0.5).data[0])\n",
    "    fig.update_layout(barmode='overlay', xaxis_title=value, yaxis_title='Count', showlegend=True)\n",
    "    return fig\n",
    "\n",
    "@callback(\n",
    "    Output('bi-var', 'figure'),\n",
    "    Input('dropdown-selection-first-var', 'value'),\n",
    "    Input('dropdown-selection-second-var', 'value'),\n",
    ")\n",
    "\n",
    "def update_graph(x, y):\n",
    "    return px.scatter(cleandf, x=x, y=y, title=f'{x} vs {y}')\n",
    "\n",
    "@callback(\n",
    "    Output('EDA-analysis-Container', 'children'),\n",
    "    Input('control_radio_items', 'value')\n",
    ")\n",
    "def update_EDA_analysis(value):\n",
    "    if value == 'Mono-variate analysis':\n",
    "        return dbc.Row([\n",
    "        dbc.Col([\n",
    "            html.H3('Univariate analysis'),\n",
    "            dcc.Dropdown(cleandf.columns, 'Kills', id='dropdown-selection-universal'),\n",
    "            dcc.Graph(id='graph-content-universal')\n",
    "        ], width=5),\n",
    "        \n",
    "        dbc.Col([], width=2),\n",
    "        \n",
    "        dbc.Col([\n",
    "            html.H3('Sup vs. NonSup analysis'),\n",
    "            dcc.Dropdown(cleandf.columns, 'Kills', id='dropdown-selection-sup-nonsup'),\n",
    "            dcc.Graph(id='graph-content-sup-nonsup')\n",
    "        ], width=5),\n",
    "        html.Hr()\n",
    "    ])\n",
    "    \n",
    "    elif value == 'Bivariate analysis':\n",
    "        return (dbc.Row([\n",
    "                html.H3('Bivariate analysis'),\n",
    "            ]),\n",
    "    \n",
    "        dbc.Row([\n",
    "            dbc.Col([\n",
    "                dcc.Dropdown(cleandf.columns, 'Golds', id='dropdown-selection-first-var'),\n",
    "            ],width=3),\n",
    "            \n",
    "            dbc.Col([\n",
    "                dcc.Dropdown(cleandf.columns, 'Kills', id='dropdown-selection-second-var'),\n",
    "            ],width=3),\n",
    "            \n",
    "        ], justify='center'),\n",
    "        \n",
    "        dbc.Row([\n",
    "            dbc.Col([\n",
    "                dcc.Graph(id='bi-var')\n",
    "            ], width=6)\n",
    "        ],justify='center'))\n",
    "    \n",
    "@callback(\n",
    "    Output('score', 'figure'),\n",
    "    Input('role', 'value'),\n",
    "    Input('score-type', 'value')\n",
    ")\n",
    "def update_graph(role, score_type): \n",
    "    role_score = player_scores[player_scores['Role'] == role].groupby('Player')[score_type].max().reset_index().sort_values(by=score_type, ascending=False).head(10)[::-1]\n",
    "\n",
    "\n",
    "    return px.bar(role_score, x=score_type, y='Player')\n",
    "\n",
    "\n",
    "if __name__ == '__main__':\n",
    "    app.run(debug=True)"
   ]
  },
  {
   "cell_type": "markdown",
   "source": [],
   "metadata": {
    "collapsed": false
   }
  },
  {
   "cell_type": "code",
   "execution_count": null,
   "outputs": [],
   "source": [],
   "metadata": {
    "collapsed": false
   }
  }
 ],
 "metadata": {
  "kernelspec": {
   "display_name": "dac",
   "language": "python",
   "name": "python3"
  },
  "language_info": {
   "codemirror_mode": {
    "name": "ipython",
    "version": 3
   },
   "file_extension": ".py",
   "mimetype": "text/x-python",
   "name": "python",
   "nbconvert_exporter": "python",
   "pygments_lexer": "ipython3",
   "version": "3.12.2"
  }
 },
 "nbformat": 4,
 "nbformat_minor": 2
}
